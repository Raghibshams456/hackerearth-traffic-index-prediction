{
 "cells": [
  {
   "cell_type": "code",
   "execution_count": 1,
   "metadata": {},
   "outputs": [],
   "source": [
    "import pandas as pd\n",
    "import matplotlib.pyplot as plt\n",
    "from mpl_toolkits.mplot3d import Axes3D\n",
    "import matplotlib as mpl\n",
    "import numpy as np\n",
    "import seaborn as sns\n",
    "%matplotlib inline"
   ]
  },
  {
   "cell_type": "code",
   "execution_count": 2,
   "metadata": {},
   "outputs": [],
   "source": [
    "train=pd.read_csv('train.csv',sep=\",\")\n",
    "test=pd.read_csv('test.csv',sep=\",\")\n"
   ]
  },
  {
   "cell_type": "code",
   "execution_count": null,
   "metadata": {},
   "outputs": [],
   "source": []
  },
  {
   "cell_type": "code",
   "execution_count": 3,
   "metadata": {},
   "outputs": [
    {
     "data": {
      "text/plain": [
       "(33750, 14)"
      ]
     },
     "execution_count": 3,
     "metadata": {},
     "output_type": "execute_result"
    }
   ],
   "source": [
    "train.shape"
   ]
  },
  {
   "cell_type": "code",
   "execution_count": 4,
   "metadata": {},
   "outputs": [
    {
     "data": {
      "text/plain": [
       "Index(['date_time', 'is_holiday', 'humidity', 'wind_speed', 'wind_direction',\n",
       "       'visibility_in_miles', 'dew_point', 'temperature', 'rain_p_h',\n",
       "       'snow_p_h', 'clouds_all', 'weather_type', 'air_pollution_index',\n",
       "       'traffic_volume'],\n",
       "      dtype='object')"
      ]
     },
     "execution_count": 4,
     "metadata": {},
     "output_type": "execute_result"
    }
   ],
   "source": [
    "train.columns"
   ]
  },
  {
   "cell_type": "code",
   "execution_count": 5,
   "metadata": {},
   "outputs": [
    {
     "name": "stdout",
     "output_type": "stream",
     "text": [
      "<class 'pandas.core.frame.DataFrame'>\n",
      "RangeIndex: 33750 entries, 0 to 33749\n",
      "Data columns (total 14 columns):\n",
      "date_time              33750 non-null object\n",
      "is_holiday             33750 non-null object\n",
      "humidity               33750 non-null int64\n",
      "wind_speed             33750 non-null int64\n",
      "wind_direction         33750 non-null int64\n",
      "visibility_in_miles    33750 non-null int64\n",
      "dew_point              33750 non-null int64\n",
      "temperature            33750 non-null float64\n",
      "rain_p_h               33750 non-null float64\n",
      "snow_p_h               33750 non-null float64\n",
      "clouds_all             33750 non-null int64\n",
      "weather_type           33750 non-null object\n",
      "air_pollution_index    33750 non-null int64\n",
      "traffic_volume         33750 non-null int64\n",
      "dtypes: float64(3), int64(8), object(3)\n",
      "memory usage: 3.6+ MB\n"
     ]
    }
   ],
   "source": [
    "train.info()"
   ]
  },
  {
   "cell_type": "code",
   "execution_count": 6,
   "metadata": {},
   "outputs": [
    {
     "data": {
      "text/html": [
       "<div>\n",
       "<style scoped>\n",
       "    .dataframe tbody tr th:only-of-type {\n",
       "        vertical-align: middle;\n",
       "    }\n",
       "\n",
       "    .dataframe tbody tr th {\n",
       "        vertical-align: top;\n",
       "    }\n",
       "\n",
       "    .dataframe thead th {\n",
       "        text-align: right;\n",
       "    }\n",
       "</style>\n",
       "<table border=\"1\" class=\"dataframe\">\n",
       "  <thead>\n",
       "    <tr style=\"text-align: right;\">\n",
       "      <th></th>\n",
       "      <th>humidity</th>\n",
       "      <th>wind_speed</th>\n",
       "      <th>wind_direction</th>\n",
       "      <th>visibility_in_miles</th>\n",
       "      <th>dew_point</th>\n",
       "      <th>temperature</th>\n",
       "      <th>rain_p_h</th>\n",
       "      <th>snow_p_h</th>\n",
       "      <th>clouds_all</th>\n",
       "      <th>air_pollution_index</th>\n",
       "      <th>traffic_volume</th>\n",
       "    </tr>\n",
       "  </thead>\n",
       "  <tbody>\n",
       "    <tr>\n",
       "      <th>count</th>\n",
       "      <td>33750.000000</td>\n",
       "      <td>33750.000000</td>\n",
       "      <td>33750.000000</td>\n",
       "      <td>33750.000000</td>\n",
       "      <td>33750.000000</td>\n",
       "      <td>33750.000000</td>\n",
       "      <td>33750.000000</td>\n",
       "      <td>33750.000000</td>\n",
       "      <td>33750.000000</td>\n",
       "      <td>33750.000000</td>\n",
       "      <td>33750.000000</td>\n",
       "    </tr>\n",
       "    <tr>\n",
       "      <th>mean</th>\n",
       "      <td>71.209007</td>\n",
       "      <td>3.378193</td>\n",
       "      <td>199.471852</td>\n",
       "      <td>4.989748</td>\n",
       "      <td>4.989748</td>\n",
       "      <td>280.069587</td>\n",
       "      <td>0.448739</td>\n",
       "      <td>0.000318</td>\n",
       "      <td>50.458785</td>\n",
       "      <td>154.841422</td>\n",
       "      <td>3240.118163</td>\n",
       "    </tr>\n",
       "    <tr>\n",
       "      <th>std</th>\n",
       "      <td>16.852248</td>\n",
       "      <td>2.055792</td>\n",
       "      <td>99.841088</td>\n",
       "      <td>2.570021</td>\n",
       "      <td>2.570021</td>\n",
       "      <td>13.415256</td>\n",
       "      <td>53.526500</td>\n",
       "      <td>0.009760</td>\n",
       "      <td>38.871734</td>\n",
       "      <td>83.735515</td>\n",
       "      <td>1991.487289</td>\n",
       "    </tr>\n",
       "    <tr>\n",
       "      <th>min</th>\n",
       "      <td>13.000000</td>\n",
       "      <td>0.000000</td>\n",
       "      <td>0.000000</td>\n",
       "      <td>1.000000</td>\n",
       "      <td>1.000000</td>\n",
       "      <td>0.000000</td>\n",
       "      <td>0.000000</td>\n",
       "      <td>0.000000</td>\n",
       "      <td>0.000000</td>\n",
       "      <td>10.000000</td>\n",
       "      <td>0.000000</td>\n",
       "    </tr>\n",
       "    <tr>\n",
       "      <th>25%</th>\n",
       "      <td>60.000000</td>\n",
       "      <td>2.000000</td>\n",
       "      <td>130.000000</td>\n",
       "      <td>3.000000</td>\n",
       "      <td>3.000000</td>\n",
       "      <td>271.720000</td>\n",
       "      <td>0.000000</td>\n",
       "      <td>0.000000</td>\n",
       "      <td>1.000000</td>\n",
       "      <td>83.000000</td>\n",
       "      <td>1165.250000</td>\n",
       "    </tr>\n",
       "    <tr>\n",
       "      <th>50%</th>\n",
       "      <td>72.000000</td>\n",
       "      <td>3.000000</td>\n",
       "      <td>200.000000</td>\n",
       "      <td>5.000000</td>\n",
       "      <td>5.000000</td>\n",
       "      <td>280.150000</td>\n",
       "      <td>0.000000</td>\n",
       "      <td>0.000000</td>\n",
       "      <td>64.000000</td>\n",
       "      <td>155.000000</td>\n",
       "      <td>3335.000000</td>\n",
       "    </tr>\n",
       "    <tr>\n",
       "      <th>75%</th>\n",
       "      <td>85.000000</td>\n",
       "      <td>5.000000</td>\n",
       "      <td>290.000000</td>\n",
       "      <td>7.000000</td>\n",
       "      <td>7.000000</td>\n",
       "      <td>290.620000</td>\n",
       "      <td>0.000000</td>\n",
       "      <td>0.000000</td>\n",
       "      <td>90.000000</td>\n",
       "      <td>228.000000</td>\n",
       "      <td>4926.000000</td>\n",
       "    </tr>\n",
       "    <tr>\n",
       "      <th>max</th>\n",
       "      <td>100.000000</td>\n",
       "      <td>16.000000</td>\n",
       "      <td>360.000000</td>\n",
       "      <td>9.000000</td>\n",
       "      <td>9.000000</td>\n",
       "      <td>308.240000</td>\n",
       "      <td>9831.300000</td>\n",
       "      <td>0.510000</td>\n",
       "      <td>100.000000</td>\n",
       "      <td>299.000000</td>\n",
       "      <td>7280.000000</td>\n",
       "    </tr>\n",
       "  </tbody>\n",
       "</table>\n",
       "</div>"
      ],
      "text/plain": [
       "           humidity    wind_speed  wind_direction  visibility_in_miles  \\\n",
       "count  33750.000000  33750.000000    33750.000000         33750.000000   \n",
       "mean      71.209007      3.378193      199.471852             4.989748   \n",
       "std       16.852248      2.055792       99.841088             2.570021   \n",
       "min       13.000000      0.000000        0.000000             1.000000   \n",
       "25%       60.000000      2.000000      130.000000             3.000000   \n",
       "50%       72.000000      3.000000      200.000000             5.000000   \n",
       "75%       85.000000      5.000000      290.000000             7.000000   \n",
       "max      100.000000     16.000000      360.000000             9.000000   \n",
       "\n",
       "          dew_point   temperature      rain_p_h      snow_p_h    clouds_all  \\\n",
       "count  33750.000000  33750.000000  33750.000000  33750.000000  33750.000000   \n",
       "mean       4.989748    280.069587      0.448739      0.000318     50.458785   \n",
       "std        2.570021     13.415256     53.526500      0.009760     38.871734   \n",
       "min        1.000000      0.000000      0.000000      0.000000      0.000000   \n",
       "25%        3.000000    271.720000      0.000000      0.000000      1.000000   \n",
       "50%        5.000000    280.150000      0.000000      0.000000     64.000000   \n",
       "75%        7.000000    290.620000      0.000000      0.000000     90.000000   \n",
       "max        9.000000    308.240000   9831.300000      0.510000    100.000000   \n",
       "\n",
       "       air_pollution_index  traffic_volume  \n",
       "count         33750.000000    33750.000000  \n",
       "mean            154.841422     3240.118163  \n",
       "std              83.735515     1991.487289  \n",
       "min              10.000000        0.000000  \n",
       "25%              83.000000     1165.250000  \n",
       "50%             155.000000     3335.000000  \n",
       "75%             228.000000     4926.000000  \n",
       "max             299.000000     7280.000000  "
      ]
     },
     "execution_count": 6,
     "metadata": {},
     "output_type": "execute_result"
    }
   ],
   "source": [
    "train.describe()"
   ]
  },
  {
   "cell_type": "code",
   "execution_count": 7,
   "metadata": {},
   "outputs": [],
   "source": [
    "rain=train['rain_p_h']\n"
   ]
  },
  {
   "cell_type": "code",
   "execution_count": 8,
   "metadata": {},
   "outputs": [],
   "source": [
    "l=[]\n",
    "for i in range(len(rain)):\n",
    "    if rain[i]>=53.52:\n",
    "        l.append(i)\n",
    "        "
   ]
  },
  {
   "cell_type": "code",
   "execution_count": 9,
   "metadata": {},
   "outputs": [
    {
     "data": {
      "text/plain": [
       "55.63"
      ]
     },
     "execution_count": 9,
     "metadata": {},
     "output_type": "execute_result"
    }
   ],
   "source": [
    "rain[8247]"
   ]
  },
  {
   "cell_type": "code",
   "execution_count": 10,
   "metadata": {},
   "outputs": [
    {
     "name": "stderr",
     "output_type": "stream",
     "text": [
      "/home/raghib/anaconda3/lib/python3.7/site-packages/ipykernel_launcher.py:1: SettingWithCopyWarning: \n",
      "A value is trying to be set on a copy of a slice from a DataFrame\n",
      "\n",
      "See the caveats in the documentation: http://pandas.pydata.org/pandas-docs/stable/indexing.html#indexing-view-versus-copy\n",
      "  \"\"\"Entry point for launching an IPython kernel.\n",
      "/home/raghib/anaconda3/lib/python3.7/site-packages/ipykernel_launcher.py:2: SettingWithCopyWarning: \n",
      "A value is trying to be set on a copy of a slice from a DataFrame\n",
      "\n",
      "See the caveats in the documentation: http://pandas.pydata.org/pandas-docs/stable/indexing.html#indexing-view-versus-copy\n",
      "  \n"
     ]
    }
   ],
   "source": [
    "rain[24872]=0.448739\n",
    "rain[8247]=0.448739"
   ]
  },
  {
   "cell_type": "code",
   "execution_count": 11,
   "metadata": {},
   "outputs": [
    {
     "data": {
      "text/plain": [
       "count    33750.000000\n",
       "mean         0.155820\n",
       "std          1.118457\n",
       "min          0.000000\n",
       "25%          0.000000\n",
       "50%          0.000000\n",
       "75%          0.000000\n",
       "max         44.450000\n",
       "Name: rain_p_h, dtype: float64"
      ]
     },
     "execution_count": 11,
     "metadata": {},
     "output_type": "execute_result"
    }
   ],
   "source": [
    "rain.describe()"
   ]
  },
  {
   "cell_type": "code",
   "execution_count": null,
   "metadata": {},
   "outputs": [],
   "source": []
  },
  {
   "cell_type": "code",
   "execution_count": 12,
   "metadata": {},
   "outputs": [
    {
     "data": {
      "text/plain": [
       "array([[<matplotlib.axes._subplots.AxesSubplot object at 0x7f289c06cf28>,\n",
       "        <matplotlib.axes._subplots.AxesSubplot object at 0x7f287062b4e0>,\n",
       "        <matplotlib.axes._subplots.AxesSubplot object at 0x7f28705e0a90>],\n",
       "       [<matplotlib.axes._subplots.AxesSubplot object at 0x7f287059f080>,\n",
       "        <matplotlib.axes._subplots.AxesSubplot object at 0x7f28705cd630>,\n",
       "        <matplotlib.axes._subplots.AxesSubplot object at 0x7f287057fbe0>],\n",
       "       [<matplotlib.axes._subplots.AxesSubplot object at 0x7f287053c1d0>,\n",
       "        <matplotlib.axes._subplots.AxesSubplot object at 0x7f28704ed7b8>,\n",
       "        <matplotlib.axes._subplots.AxesSubplot object at 0x7f28704ed7f0>],\n",
       "       [<matplotlib.axes._subplots.AxesSubplot object at 0x7f287045b320>,\n",
       "        <matplotlib.axes._subplots.AxesSubplot object at 0x7f287048c8d0>,\n",
       "        <matplotlib.axes._subplots.AxesSubplot object at 0x7f287043ee80>]],\n",
       "      dtype=object)"
      ]
     },
     "execution_count": 12,
     "metadata": {},
     "output_type": "execute_result"
    },
    {
     "data": {
      "image/png": "[encoded data removed]",
      "text/plain": [
       "<Figure size 720x720 with 12 Axes>"
      ]
     },
     "metadata": {
      "needs_background": "light"
     },
     "output_type": "display_data"
    }
   ],
   "source": [
    "train.hist(figsize=(10,10),bins=15)"
   ]
  },
  {
   "cell_type": "code",
   "execution_count": 13,
   "metadata": {},
   "outputs": [
    {
     "data": {
      "text/plain": [
       "<matplotlib.axes._subplots.AxesSubplot at 0x7f287099c588>"
      ]
     },
     "execution_count": 13,
     "metadata": {},
     "output_type": "execute_result"
    },
    {
     "data": {
      "image/png": "[encoded data removed]",
      "text/plain": [
       "<Figure size 432x288 with 1 Axes>"
      ]
     },
     "metadata": {
      "needs_background": "light"
     },
     "output_type": "display_data"
    }
   ],
   "source": [
    "arr=[  'humidity', 'wind_speed','wind_direction',\n",
    "       'visibility_in_miles', 'dew_point', 'temperature', 'rain_p_h',\n",
    "       'snow_p_h', 'clouds_all', 'air_pollution_index',\n",
    "       ]\n",
    "sns.kdeplot(train[arr[0]])\n",
    "\n"
   ]
  },
  {
   "cell_type": "code",
   "execution_count": 14,
   "metadata": {},
   "outputs": [
    {
     "data": {
      "text/plain": [
       "<matplotlib.axes._subplots.AxesSubplot at 0x7f287030fa90>"
      ]
     },
     "execution_count": 14,
     "metadata": {},
     "output_type": "execute_result"
    },
    {
     "data": {
      "image/png": "[encoded data removed]",
      "text/plain": [
       "<Figure size 432x288 with 1 Axes>"
      ]
     },
     "metadata": {
      "needs_background": "light"
     },
     "output_type": "display_data"
    }
   ],
   "source": [
    "sns.kdeplot(train[arr[1]])\n"
   ]
  },
  {
   "cell_type": "code",
   "execution_count": 15,
   "metadata": {},
   "outputs": [
    {
     "data": {
      "text/plain": [
       "<matplotlib.axes._subplots.AxesSubplot at 0x7f286ffa6da0>"
      ]
     },
     "execution_count": 15,
     "metadata": {},
     "output_type": "execute_result"
    },
    {
     "data": {
      "image/png": "[encoded data removed]",
      "text/plain": [
       "<Figure size 432x288 with 1 Axes>"
      ]
     },
     "metadata": {
      "needs_background": "light"
     },
     "output_type": "display_data"
    }
   ],
   "source": [
    "sns.kdeplot(train[arr[2]])\n",
    "\n"
   ]
  },
  {
   "cell_type": "code",
   "execution_count": 16,
   "metadata": {},
   "outputs": [
    {
     "data": {
      "text/plain": [
       "<matplotlib.axes._subplots.AxesSubplot at 0x7f286ff81630>"
      ]
     },
     "execution_count": 16,
     "metadata": {},
     "output_type": "execute_result"
    },
    {
     "data": {
      "image/png": "[encoded data removed]",
      "text/plain": [
       "<Figure size 432x288 with 1 Axes>"
      ]
     },
     "metadata": {
      "needs_background": "light"
     },
     "output_type": "display_data"
    }
   ],
   "source": [
    "sns.kdeplot(train[arr[3]])\n"
   ]
  },
  {
   "cell_type": "code",
   "execution_count": null,
   "metadata": {},
   "outputs": [],
   "source": [
    "\n",
    "\n"
   ]
  },
  {
   "cell_type": "code",
   "execution_count": 17,
   "metadata": {},
   "outputs": [
    {
     "data": {
      "text/plain": [
       "<matplotlib.axes._subplots.AxesSubplot at 0x7f286fef27b8>"
      ]
     },
     "execution_count": 17,
     "metadata": {},
     "output_type": "execute_result"
    },
    {
     "data": {
      "image/png": "[encoded data removed]",
      "text/plain": [
       "<Figure size 432x288 with 1 Axes>"
      ]
     },
     "metadata": {
      "needs_background": "light"
     },
     "output_type": "display_data"
    }
   ],
   "source": [
    "sns.kdeplot(train[arr[5]])\n"
   ]
  },
  {
   "cell_type": "code",
   "execution_count": 18,
   "metadata": {},
   "outputs": [
    {
     "data": {
      "text/plain": [
       "<matplotlib.axes._subplots.AxesSubplot at 0x7f286fec96d8>"
      ]
     },
     "execution_count": 18,
     "metadata": {},
     "output_type": "execute_result"
    },
    {
     "data": {
      "image/png": "[encoded data removed]",
      "text/plain": [
       "<Figure size 432x288 with 1 Axes>"
      ]
     },
     "metadata": {
      "needs_background": "light"
     },
     "output_type": "display_data"
    }
   ],
   "source": [
    "sns.kdeplot(train[arr[6]])\n"
   ]
  },
  {
   "cell_type": "code",
   "execution_count": 19,
   "metadata": {},
   "outputs": [
    {
     "data": {
      "text/plain": [
       "<matplotlib.axes._subplots.AxesSubplot at 0x7f286fe114e0>"
      ]
     },
     "execution_count": 19,
     "metadata": {},
     "output_type": "execute_result"
    },
    {
     "data": {
      "image/png": "[encoded data removed]",
      "text/plain": [
       "<Figure size 432x288 with 1 Axes>"
      ]
     },
     "metadata": {
      "needs_background": "light"
     },
     "output_type": "display_data"
    }
   ],
   "source": [
    "sns.kdeplot(train[arr[7]])\n"
   ]
  },
  {
   "cell_type": "code",
   "execution_count": 20,
   "metadata": {},
   "outputs": [
    {
     "data": {
      "text/plain": [
       "<matplotlib.axes._subplots.AxesSubplot at 0x7f286fec9780>"
      ]
     },
     "execution_count": 20,
     "metadata": {},
     "output_type": "execute_result"
    },
    {
     "data": {
      "image/png": "[encoded data removed]",
      "text/plain": [
       "<Figure size 432x288 with 1 Axes>"
      ]
     },
     "metadata": {
      "needs_background": "light"
     },
     "output_type": "display_data"
    }
   ],
   "source": [
    "sns.kdeplot(train[arr[8]])\n"
   ]
  },
  {
   "cell_type": "code",
   "execution_count": 21,
   "metadata": {
    "scrolled": true
   },
   "outputs": [
    {
     "data": {
      "text/plain": [
       "<matplotlib.axes._subplots.AxesSubplot at 0x7f286fdbdb70>"
      ]
     },
     "execution_count": 21,
     "metadata": {},
     "output_type": "execute_result"
    },
    {
     "data": {
      "image/png": "[encoded data removed]",
      "text/plain": [
       "<Figure size 432x288 with 1 Axes>"
      ]
     },
     "metadata": {
      "needs_background": "light"
     },
     "output_type": "display_data"
    }
   ],
   "source": [
    "sns.kdeplot(train[arr[9]])\n"
   ]
  },
  {
   "cell_type": "code",
   "execution_count": null,
   "metadata": {},
   "outputs": [],
   "source": [
    "\n"
   ]
  },
  {
   "cell_type": "code",
   "execution_count": null,
   "metadata": {},
   "outputs": [],
   "source": [
    "\n"
   ]
  },
  {
   "cell_type": "code",
   "execution_count": null,
   "metadata": {},
   "outputs": [],
   "source": []
  },
  {
   "cell_type": "code",
   "execution_count": 22,
   "metadata": {},
   "outputs": [
    {
     "data": {
      "text/html": [
       "<div>\n",
       "<style scoped>\n",
       "    .dataframe tbody tr th:only-of-type {\n",
       "        vertical-align: middle;\n",
       "    }\n",
       "\n",
       "    .dataframe tbody tr th {\n",
       "        vertical-align: top;\n",
       "    }\n",
       "\n",
       "    .dataframe thead th {\n",
       "        text-align: right;\n",
       "    }\n",
       "</style>\n",
       "<table border=\"1\" class=\"dataframe\">\n",
       "  <thead>\n",
       "    <tr style=\"text-align: right;\">\n",
       "      <th></th>\n",
       "      <th>date_time</th>\n",
       "      <th>is_holiday</th>\n",
       "      <th>humidity</th>\n",
       "      <th>wind_speed</th>\n",
       "      <th>wind_direction</th>\n",
       "      <th>visibility_in_miles</th>\n",
       "      <th>dew_point</th>\n",
       "      <th>temperature</th>\n",
       "      <th>rain_p_h</th>\n",
       "      <th>snow_p_h</th>\n",
       "      <th>clouds_all</th>\n",
       "      <th>weather_type</th>\n",
       "      <th>air_pollution_index</th>\n",
       "      <th>traffic_volume</th>\n",
       "    </tr>\n",
       "  </thead>\n",
       "  <tbody>\n",
       "    <tr>\n",
       "      <th>0</th>\n",
       "      <td>2012-10-02 09:00:00</td>\n",
       "      <td>None</td>\n",
       "      <td>89</td>\n",
       "      <td>2</td>\n",
       "      <td>329</td>\n",
       "      <td>1</td>\n",
       "      <td>1</td>\n",
       "      <td>288.28</td>\n",
       "      <td>0.0</td>\n",
       "      <td>0.0</td>\n",
       "      <td>40</td>\n",
       "      <td>Clouds</td>\n",
       "      <td>121</td>\n",
       "      <td>5545</td>\n",
       "    </tr>\n",
       "  </tbody>\n",
       "</table>\n",
       "</div>"
      ],
      "text/plain": [
       "             date_time is_holiday  humidity  wind_speed  wind_direction  \\\n",
       "0  2012-10-02 09:00:00       None        89           2             329   \n",
       "\n",
       "   visibility_in_miles  dew_point  temperature  rain_p_h  snow_p_h  \\\n",
       "0                    1          1       288.28       0.0       0.0   \n",
       "\n",
       "   clouds_all weather_type  air_pollution_index  traffic_volume  \n",
       "0          40       Clouds                  121            5545  "
      ]
     },
     "execution_count": 22,
     "metadata": {},
     "output_type": "execute_result"
    }
   ],
   "source": [
    "train.head(1)"
   ]
  },
  {
   "cell_type": "code",
   "execution_count": 23,
   "metadata": {},
   "outputs": [
    {
     "data": {
      "text/plain": [
       "array(['Clouds', 'Clear', 'Rain', 'Drizzle', 'Mist', 'Haze', 'Fog',\n",
       "       'Thunderstorm', 'Snow', 'Squall', 'Smoke'], dtype=object)"
      ]
     },
     "execution_count": 23,
     "metadata": {},
     "output_type": "execute_result"
    }
   ],
   "source": [
    "train.weather_type.unique()"
   ]
  },
  {
   "cell_type": "code",
   "execution_count": 24,
   "metadata": {},
   "outputs": [
    {
     "data": {
      "text/plain": [
       "array(['None', 'Columbus Day', 'Veterans Day', 'Thanksgiving Day',\n",
       "       'Christmas Day', 'New Years Day', 'Washingtons Birthday',\n",
       "       'Memorial Day', 'Independence Day', 'State Fair', 'Labor Day',\n",
       "       'Martin Luther King Jr Day'], dtype=object)"
      ]
     },
     "execution_count": 24,
     "metadata": {},
     "output_type": "execute_result"
    }
   ],
   "source": [
    "train.is_holiday.unique()"
   ]
  },
  {
   "cell_type": "code",
   "execution_count": 25,
   "metadata": {},
   "outputs": [
    {
     "data": {
      "text/plain": [
       "array(['Rain', 'Mist', 'Drizzle', 'Clouds', 'Clear', 'Haze', 'Fog',\n",
       "       'Thunderstorm', 'Smoke', 'Snow'], dtype=object)"
      ]
     },
     "execution_count": 25,
     "metadata": {},
     "output_type": "execute_result"
    }
   ],
   "source": [
    "test.weather_type.unique()"
   ]
  },
  {
   "cell_type": "code",
   "execution_count": 26,
   "metadata": {},
   "outputs": [],
   "source": [
    "train[['date','Time']]=train.date_time.str.split(expand=True)\n",
    "test[['date','Time']]=test.date_time.str.split(expand=True)\n",
    "\n"
   ]
  },
  {
   "cell_type": "code",
   "execution_count": 27,
   "metadata": {},
   "outputs": [
    {
     "data": {
      "text/plain": [
       "Index(['date_time', 'is_holiday', 'humidity', 'wind_speed', 'wind_direction',\n",
       "       'visibility_in_miles', 'dew_point', 'temperature', 'rain_p_h',\n",
       "       'snow_p_h', 'clouds_all', 'weather_type', 'air_pollution_index',\n",
       "       'traffic_volume', 'date', 'Time'],\n",
       "      dtype='object')"
      ]
     },
     "execution_count": 27,
     "metadata": {},
     "output_type": "execute_result"
    }
   ],
   "source": [
    "train.columns"
   ]
  },
  {
   "cell_type": "code",
   "execution_count": 28,
   "metadata": {},
   "outputs": [],
   "source": [
    "test['Journey_Day'] = pd.to_datetime(test.date, format='%Y/%m/%d').dt.day\n",
    "train['Journey_Day'] = pd.to_datetime(train.date, format='%Y/%m/%d').dt.day\n"
   ]
  },
  {
   "cell_type": "code",
   "execution_count": 29,
   "metadata": {},
   "outputs": [],
   "source": [
    "train['date'] = pd.to_datetime(train['date_time'], errors='coerce')\n",
    "test['date'] = pd.to_datetime(test['date_time'], errors='coerce')\n"
   ]
  },
  {
   "cell_type": "code",
   "execution_count": 30,
   "metadata": {},
   "outputs": [
    {
     "data": {
      "text/html": [
       "<div>\n",
       "<style scoped>\n",
       "    .dataframe tbody tr th:only-of-type {\n",
       "        vertical-align: middle;\n",
       "    }\n",
       "\n",
       "    .dataframe tbody tr th {\n",
       "        vertical-align: top;\n",
       "    }\n",
       "\n",
       "    .dataframe thead th {\n",
       "        text-align: right;\n",
       "    }\n",
       "</style>\n",
       "<table border=\"1\" class=\"dataframe\">\n",
       "  <thead>\n",
       "    <tr style=\"text-align: right;\">\n",
       "      <th></th>\n",
       "      <th>date_time</th>\n",
       "      <th>is_holiday</th>\n",
       "      <th>humidity</th>\n",
       "      <th>wind_speed</th>\n",
       "      <th>wind_direction</th>\n",
       "      <th>visibility_in_miles</th>\n",
       "      <th>dew_point</th>\n",
       "      <th>temperature</th>\n",
       "      <th>rain_p_h</th>\n",
       "      <th>snow_p_h</th>\n",
       "      <th>clouds_all</th>\n",
       "      <th>weather_type</th>\n",
       "      <th>air_pollution_index</th>\n",
       "      <th>traffic_volume</th>\n",
       "      <th>date</th>\n",
       "      <th>Time</th>\n",
       "      <th>Journey_Day</th>\n",
       "      <th>weekday</th>\n",
       "      <th>Journey_Month</th>\n",
       "    </tr>\n",
       "  </thead>\n",
       "  <tbody>\n",
       "    <tr>\n",
       "      <th>0</th>\n",
       "      <td>2012-10-02 09:00:00</td>\n",
       "      <td>None</td>\n",
       "      <td>89</td>\n",
       "      <td>2</td>\n",
       "      <td>329</td>\n",
       "      <td>1</td>\n",
       "      <td>1</td>\n",
       "      <td>288.28</td>\n",
       "      <td>0.0</td>\n",
       "      <td>0.0</td>\n",
       "      <td>40</td>\n",
       "      <td>Clouds</td>\n",
       "      <td>121</td>\n",
       "      <td>5545</td>\n",
       "      <td>2012-10-02 09:00:00</td>\n",
       "      <td>09:00:00</td>\n",
       "      <td>2</td>\n",
       "      <td>Tuesday</td>\n",
       "      <td>5.0</td>\n",
       "    </tr>\n",
       "    <tr>\n",
       "      <th>1</th>\n",
       "      <td>2012-10-02 10:00:00</td>\n",
       "      <td>None</td>\n",
       "      <td>67</td>\n",
       "      <td>3</td>\n",
       "      <td>330</td>\n",
       "      <td>1</td>\n",
       "      <td>1</td>\n",
       "      <td>289.36</td>\n",
       "      <td>0.0</td>\n",
       "      <td>0.0</td>\n",
       "      <td>75</td>\n",
       "      <td>Clouds</td>\n",
       "      <td>178</td>\n",
       "      <td>4516</td>\n",
       "      <td>2012-10-02 10:00:00</td>\n",
       "      <td>10:00:00</td>\n",
       "      <td>2</td>\n",
       "      <td>Tuesday</td>\n",
       "      <td>5.0</td>\n",
       "    </tr>\n",
       "    <tr>\n",
       "      <th>2</th>\n",
       "      <td>2012-10-02 11:00:00</td>\n",
       "      <td>None</td>\n",
       "      <td>66</td>\n",
       "      <td>3</td>\n",
       "      <td>329</td>\n",
       "      <td>2</td>\n",
       "      <td>2</td>\n",
       "      <td>289.58</td>\n",
       "      <td>0.0</td>\n",
       "      <td>0.0</td>\n",
       "      <td>90</td>\n",
       "      <td>Clouds</td>\n",
       "      <td>113</td>\n",
       "      <td>4767</td>\n",
       "      <td>2012-10-02 11:00:00</td>\n",
       "      <td>11:00:00</td>\n",
       "      <td>2</td>\n",
       "      <td>Tuesday</td>\n",
       "      <td>5.0</td>\n",
       "    </tr>\n",
       "    <tr>\n",
       "      <th>3</th>\n",
       "      <td>2012-10-02 12:00:00</td>\n",
       "      <td>None</td>\n",
       "      <td>66</td>\n",
       "      <td>3</td>\n",
       "      <td>329</td>\n",
       "      <td>5</td>\n",
       "      <td>5</td>\n",
       "      <td>290.13</td>\n",
       "      <td>0.0</td>\n",
       "      <td>0.0</td>\n",
       "      <td>90</td>\n",
       "      <td>Clouds</td>\n",
       "      <td>20</td>\n",
       "      <td>5026</td>\n",
       "      <td>2012-10-02 12:00:00</td>\n",
       "      <td>12:00:00</td>\n",
       "      <td>2</td>\n",
       "      <td>Tuesday</td>\n",
       "      <td>5.0</td>\n",
       "    </tr>\n",
       "    <tr>\n",
       "      <th>4</th>\n",
       "      <td>2012-10-02 13:00:00</td>\n",
       "      <td>None</td>\n",
       "      <td>65</td>\n",
       "      <td>3</td>\n",
       "      <td>329</td>\n",
       "      <td>7</td>\n",
       "      <td>7</td>\n",
       "      <td>291.14</td>\n",
       "      <td>0.0</td>\n",
       "      <td>0.0</td>\n",
       "      <td>75</td>\n",
       "      <td>Clouds</td>\n",
       "      <td>281</td>\n",
       "      <td>4918</td>\n",
       "      <td>2012-10-02 13:00:00</td>\n",
       "      <td>13:00:00</td>\n",
       "      <td>2</td>\n",
       "      <td>Tuesday</td>\n",
       "      <td>5.0</td>\n",
       "    </tr>\n",
       "  </tbody>\n",
       "</table>\n",
       "</div>"
      ],
      "text/plain": [
       "             date_time is_holiday  humidity  wind_speed  wind_direction  \\\n",
       "0  2012-10-02 09:00:00       None        89           2             329   \n",
       "1  2012-10-02 10:00:00       None        67           3             330   \n",
       "2  2012-10-02 11:00:00       None        66           3             329   \n",
       "3  2012-10-02 12:00:00       None        66           3             329   \n",
       "4  2012-10-02 13:00:00       None        65           3             329   \n",
       "\n",
       "   visibility_in_miles  dew_point  temperature  rain_p_h  snow_p_h  \\\n",
       "0                    1          1       288.28       0.0       0.0   \n",
       "1                    1          1       289.36       0.0       0.0   \n",
       "2                    2          2       289.58       0.0       0.0   \n",
       "3                    5          5       290.13       0.0       0.0   \n",
       "4                    7          7       291.14       0.0       0.0   \n",
       "\n",
       "   clouds_all weather_type  air_pollution_index  traffic_volume  \\\n",
       "0          40       Clouds                  121            5545   \n",
       "1          75       Clouds                  178            4516   \n",
       "2          90       Clouds                  113            4767   \n",
       "3          90       Clouds                   20            5026   \n",
       "4          75       Clouds                  281            4918   \n",
       "\n",
       "                 date      Time  Journey_Day  weekday  Journey_Month  \n",
       "0 2012-10-02 09:00:00  09:00:00            2  Tuesday            5.0  \n",
       "1 2012-10-02 10:00:00  10:00:00            2  Tuesday            5.0  \n",
       "2 2012-10-02 11:00:00  11:00:00            2  Tuesday            5.0  \n",
       "3 2012-10-02 12:00:00  12:00:00            2  Tuesday            5.0  \n",
       "4 2012-10-02 13:00:00  13:00:00            2  Tuesday            5.0  "
      ]
     },
     "execution_count": 30,
     "metadata": {},
     "output_type": "execute_result"
    }
   ],
   "source": [
    "test['weekday'] = test.date.dt.weekday_name\n",
    "train['weekday'] = train.date.dt.weekday_name\n",
    "train['Journey_Month'] = pd.to_datetime(test.date_time, format='%Y/%m/%d').dt.month\n",
    "train.head()\n"
   ]
  },
  {
   "cell_type": "code",
   "execution_count": 31,
   "metadata": {},
   "outputs": [],
   "source": [
    "test['Journey_Month'] = pd.to_datetime(test.date_time, format='%Y/%m/%d').dt.month\n"
   ]
  },
  {
   "cell_type": "code",
   "execution_count": 32,
   "metadata": {},
   "outputs": [],
   "source": [
    "train.drop(['date_time','date','dew_point'],axis=1,inplace=True)\n",
    "test.drop(['date_time','date','dew_point'],axis=1,inplace=True)\n"
   ]
  },
  {
   "cell_type": "code",
   "execution_count": 33,
   "metadata": {},
   "outputs": [
    {
     "data": {
      "text/html": [
       "<div>\n",
       "<style scoped>\n",
       "    .dataframe tbody tr th:only-of-type {\n",
       "        vertical-align: middle;\n",
       "    }\n",
       "\n",
       "    .dataframe tbody tr th {\n",
       "        vertical-align: top;\n",
       "    }\n",
       "\n",
       "    .dataframe thead th {\n",
       "        text-align: right;\n",
       "    }\n",
       "</style>\n",
       "<table border=\"1\" class=\"dataframe\">\n",
       "  <thead>\n",
       "    <tr style=\"text-align: right;\">\n",
       "      <th></th>\n",
       "      <th>is_holiday</th>\n",
       "      <th>humidity</th>\n",
       "      <th>wind_speed</th>\n",
       "      <th>wind_direction</th>\n",
       "      <th>visibility_in_miles</th>\n",
       "      <th>temperature</th>\n",
       "      <th>rain_p_h</th>\n",
       "      <th>snow_p_h</th>\n",
       "      <th>clouds_all</th>\n",
       "      <th>weather_type</th>\n",
       "      <th>air_pollution_index</th>\n",
       "      <th>traffic_volume</th>\n",
       "      <th>Time</th>\n",
       "      <th>Journey_Day</th>\n",
       "      <th>weekday</th>\n",
       "      <th>Journey_Month</th>\n",
       "    </tr>\n",
       "  </thead>\n",
       "  <tbody>\n",
       "    <tr>\n",
       "      <th>0</th>\n",
       "      <td>None</td>\n",
       "      <td>89</td>\n",
       "      <td>2</td>\n",
       "      <td>329</td>\n",
       "      <td>1</td>\n",
       "      <td>288.28</td>\n",
       "      <td>0.0</td>\n",
       "      <td>0.0</td>\n",
       "      <td>40</td>\n",
       "      <td>Clouds</td>\n",
       "      <td>121</td>\n",
       "      <td>5545</td>\n",
       "      <td>09:00:00</td>\n",
       "      <td>2</td>\n",
       "      <td>Tuesday</td>\n",
       "      <td>5.0</td>\n",
       "    </tr>\n",
       "    <tr>\n",
       "      <th>1</th>\n",
       "      <td>None</td>\n",
       "      <td>67</td>\n",
       "      <td>3</td>\n",
       "      <td>330</td>\n",
       "      <td>1</td>\n",
       "      <td>289.36</td>\n",
       "      <td>0.0</td>\n",
       "      <td>0.0</td>\n",
       "      <td>75</td>\n",
       "      <td>Clouds</td>\n",
       "      <td>178</td>\n",
       "      <td>4516</td>\n",
       "      <td>10:00:00</td>\n",
       "      <td>2</td>\n",
       "      <td>Tuesday</td>\n",
       "      <td>5.0</td>\n",
       "    </tr>\n",
       "    <tr>\n",
       "      <th>2</th>\n",
       "      <td>None</td>\n",
       "      <td>66</td>\n",
       "      <td>3</td>\n",
       "      <td>329</td>\n",
       "      <td>2</td>\n",
       "      <td>289.58</td>\n",
       "      <td>0.0</td>\n",
       "      <td>0.0</td>\n",
       "      <td>90</td>\n",
       "      <td>Clouds</td>\n",
       "      <td>113</td>\n",
       "      <td>4767</td>\n",
       "      <td>11:00:00</td>\n",
       "      <td>2</td>\n",
       "      <td>Tuesday</td>\n",
       "      <td>5.0</td>\n",
       "    </tr>\n",
       "    <tr>\n",
       "      <th>3</th>\n",
       "      <td>None</td>\n",
       "      <td>66</td>\n",
       "      <td>3</td>\n",
       "      <td>329</td>\n",
       "      <td>5</td>\n",
       "      <td>290.13</td>\n",
       "      <td>0.0</td>\n",
       "      <td>0.0</td>\n",
       "      <td>90</td>\n",
       "      <td>Clouds</td>\n",
       "      <td>20</td>\n",
       "      <td>5026</td>\n",
       "      <td>12:00:00</td>\n",
       "      <td>2</td>\n",
       "      <td>Tuesday</td>\n",
       "      <td>5.0</td>\n",
       "    </tr>\n",
       "    <tr>\n",
       "      <th>4</th>\n",
       "      <td>None</td>\n",
       "      <td>65</td>\n",
       "      <td>3</td>\n",
       "      <td>329</td>\n",
       "      <td>7</td>\n",
       "      <td>291.14</td>\n",
       "      <td>0.0</td>\n",
       "      <td>0.0</td>\n",
       "      <td>75</td>\n",
       "      <td>Clouds</td>\n",
       "      <td>281</td>\n",
       "      <td>4918</td>\n",
       "      <td>13:00:00</td>\n",
       "      <td>2</td>\n",
       "      <td>Tuesday</td>\n",
       "      <td>5.0</td>\n",
       "    </tr>\n",
       "  </tbody>\n",
       "</table>\n",
       "</div>"
      ],
      "text/plain": [
       "  is_holiday  humidity  wind_speed  wind_direction  visibility_in_miles  \\\n",
       "0       None        89           2             329                    1   \n",
       "1       None        67           3             330                    1   \n",
       "2       None        66           3             329                    2   \n",
       "3       None        66           3             329                    5   \n",
       "4       None        65           3             329                    7   \n",
       "\n",
       "   temperature  rain_p_h  snow_p_h  clouds_all weather_type  \\\n",
       "0       288.28       0.0       0.0          40       Clouds   \n",
       "1       289.36       0.0       0.0          75       Clouds   \n",
       "2       289.58       0.0       0.0          90       Clouds   \n",
       "3       290.13       0.0       0.0          90       Clouds   \n",
       "4       291.14       0.0       0.0          75       Clouds   \n",
       "\n",
       "   air_pollution_index  traffic_volume      Time  Journey_Day  weekday  \\\n",
       "0                  121            5545  09:00:00            2  Tuesday   \n",
       "1                  178            4516  10:00:00            2  Tuesday   \n",
       "2                  113            4767  11:00:00            2  Tuesday   \n",
       "3                   20            5026  12:00:00            2  Tuesday   \n",
       "4                  281            4918  13:00:00            2  Tuesday   \n",
       "\n",
       "   Journey_Month  \n",
       "0            5.0  \n",
       "1            5.0  \n",
       "2            5.0  \n",
       "3            5.0  \n",
       "4            5.0  "
      ]
     },
     "execution_count": 33,
     "metadata": {},
     "output_type": "execute_result"
    }
   ],
   "source": [
    "train.head()"
   ]
  },
  {
   "cell_type": "code",
   "execution_count": 34,
   "metadata": {},
   "outputs": [
    {
     "data": {
      "image/png": "[encoded data removed]",
      "text/plain": [
       "<Figure size 720x432 with 2 Axes>"
      ]
     },
     "metadata": {
      "needs_background": "light"
     },
     "output_type": "display_data"
    }
   ],
   "source": [
    "corr=test.corr()\n",
    "f,ax=plt.subplots(figsize=(10,6))\n",
    "hm=sns.heatmap(corr,annot=True,ax=ax)\n",
    "\n",
    "\n"
   ]
  },
  {
   "cell_type": "code",
   "execution_count": 35,
   "metadata": {},
   "outputs": [],
   "source": [
    "Y_train = train.iloc[:,10].values\n",
    "X_train=train.iloc[:,train.columns!='air_pollution_index'].values\n"
   ]
  },
  {
   "cell_type": "code",
   "execution_count": 36,
   "metadata": {},
   "outputs": [],
   "source": [
    "X_test = test.iloc[:,:].values\n"
   ]
  },
  {
   "cell_type": "code",
   "execution_count": 37,
   "metadata": {},
   "outputs": [
    {
     "data": {
      "text/plain": [
       "array([121, 178, 113, ..., 138, 229, 140])"
      ]
     },
     "execution_count": 37,
     "metadata": {},
     "output_type": "execute_result"
    }
   ],
   "source": [
    "Y_train"
   ]
  },
  {
   "cell_type": "code",
   "execution_count": 38,
   "metadata": {},
   "outputs": [
    {
     "data": {
      "text/plain": [
       "array([5.0, 5.0, 5.0, ..., nan, nan, nan], dtype=object)"
      ]
     },
     "execution_count": 38,
     "metadata": {},
     "output_type": "execute_result"
    }
   ],
   "source": [
    "X_train[:,14]"
   ]
  },
  {
   "cell_type": "code",
   "execution_count": 39,
   "metadata": {},
   "outputs": [],
   "source": [
    "from sklearn.preprocessing import LabelEncoder\n",
    "\n",
    "le1 = LabelEncoder()\n",
    "le2 = LabelEncoder()"
   ]
  },
  {
   "cell_type": "code",
   "execution_count": 40,
   "metadata": {},
   "outputs": [],
   "source": [
    "X_train[:,0] = le1.fit_transform(X_train[:,0])\n",
    "X_train[:,9]=le1.fit_transform(X_train[:,9])\n",
    "\n",
    "X_train[:,14]=le1.fit_transform(X_train[:,14])\n",
    "X_train[:,11]=le1.fit_transform(X_train[:,11])\n",
    "X_train[:,13]=le2.fit_transform(X_train[:,13])\n",
    "\n"
   ]
  },
  {
   "cell_type": "code",
   "execution_count": 41,
   "metadata": {},
   "outputs": [],
   "source": [
    "X_test[:,0] = le2.fit_transform(X_test[:,0])\n",
    "X_test[:,9]=le2.fit_transform(X_test[:,9])\n",
    "\n",
    "X_test[:,14]=le2.fit_transform(X_test[:,14])\n",
    "X_test[:,11]=le2.fit_transform(X_test[:,11])\n",
    "X_test[:,13]=le2.fit_transform(X_test[:,13])\n",
    "\n",
    "\n"
   ]
  },
  {
   "cell_type": "code",
   "execution_count": 42,
   "metadata": {},
   "outputs": [
    {
     "name": "stdout",
     "output_type": "stream",
     "text": [
      "  0   1  2    3  4       5  6  7   8  9     10  11 12 13 14\n",
      "0  7  89  2  329  1  288.28  0  0  40  1  5545   9  2  5  5\n",
      "1  7  67  3  330  1  289.36  0  0  75  1  4516  10  2  5  5\n",
      "2  7  66  3  329  2  289.58  0  0  90  1  4767  11  2  5  5\n",
      "3  7  66  3  329  5  290.13  0  0  90  1  5026  12  2  5  5\n",
      "4  7  65  3  329  7  291.14  0  0  75  1  4918  13  2  5  5\n"
     ]
    }
   ],
   "source": [
    "print(pd.DataFrame(X_train).head())\n"
   ]
  },
  {
   "cell_type": "code",
   "execution_count": null,
   "metadata": {},
   "outputs": [],
   "source": []
  },
  {
   "cell_type": "code",
   "execution_count": 43,
   "metadata": {},
   "outputs": [],
   "source": [
    "Y_train = Y_train.reshape((len(Y_train), 1))\n",
    "\n"
   ]
  },
  {
   "cell_type": "code",
   "execution_count": 44,
   "metadata": {},
   "outputs": [
    {
     "data": {
      "text/plain": [
       "array([[121],\n",
       "       [178],\n",
       "       [113],\n",
       "       ...,\n",
       "       [138],\n",
       "       [229],\n",
       "       [140]])"
      ]
     },
     "execution_count": 44,
     "metadata": {},
     "output_type": "execute_result"
    }
   ],
   "source": [
    "Y_train"
   ]
  },
  {
   "cell_type": "code",
   "execution_count": 45,
   "metadata": {},
   "outputs": [],
   "source": [
    "from sklearn.preprocessing import StandardScaler\n",
    "\n",
    "sc_X = StandardScaler()\n",
    "\n",
    "X_train = sc_X.fit_transform(X_train)\n",
    "X_test = sc_X.transform(X_test)\n",
    "#sc_y = StandardScaler()\n",
    "\n",
    "Y_train = Y_train.reshape((len(Y_train), 1)) \n",
    "\n",
    "Y_train = sc_X.fit_transform(Y_train)\n",
    "\n",
    "Y_train = Y_train.ravel()\n"
   ]
  },
  {
   "cell_type": "code",
   "execution_count": null,
   "metadata": {},
   "outputs": [],
   "source": []
  },
  {
   "cell_type": "code",
   "execution_count": 46,
   "metadata": {},
   "outputs": [
    {
     "name": "stdout",
     "output_type": "stream",
     "text": [
      "         0         1         2         3         4         5         6   \\\n",
      "0  0.014248  1.055720 -0.670405  1.297362 -1.552441  0.612030 -0.139319   \n",
      "1  0.014248 -0.249763 -0.183967  1.307378 -1.552441  0.692536 -0.139319   \n",
      "2  0.014248 -0.309103 -0.183967  1.297362 -1.163334  0.708936 -0.139319   \n",
      "3  0.014248 -0.309103 -0.183967  1.297362  0.003989  0.749934 -0.139319   \n",
      "4  0.014248 -0.368443 -0.183967  1.297362  0.782204  0.825223 -0.139319   \n",
      "\n",
      "         7         8         9         10        11        12        13  \\\n",
      "0 -0.032546 -0.269063 -0.554954  1.157384 -0.345906 -1.568527  0.995799   \n",
      "1 -0.032546  0.631348 -0.554954  0.640677 -0.202041 -1.568527  0.995799   \n",
      "2 -0.032546  1.017238 -0.554954  0.766716 -0.058177 -1.568527  0.995799   \n",
      "3 -0.032546  1.017238 -0.554954  0.896771  0.085688 -1.568527  0.995799   \n",
      "4 -0.032546  0.631348 -0.554954  0.842539  0.229553 -1.568527  0.995799   \n",
      "\n",
      "         14  \n",
      "0 -0.866889  \n",
      "1 -0.866889  \n",
      "2 -0.866889  \n",
      "3 -0.866889  \n",
      "4 -0.866889  \n"
     ]
    }
   ],
   "source": [
    "print(pd.DataFrame(X_train).head())\n",
    "\n"
   ]
  },
  {
   "cell_type": "code",
   "execution_count": 47,
   "metadata": {},
   "outputs": [
    {
     "name": "stdout",
     "output_type": "stream",
     "text": [
      "          0\n",
      "0 -0.404153\n",
      "1  0.276572\n",
      "2 -0.499693\n",
      "3 -1.610349\n",
      "4  1.506654\n"
     ]
    }
   ],
   "source": [
    "print(pd.DataFrame(Y_train).head())\n"
   ]
  },
  {
   "cell_type": "code",
   "execution_count": 48,
   "metadata": {},
   "outputs": [
    {
     "data": {
      "text/plain": [
       "(33750, 15)"
      ]
     },
     "execution_count": 48,
     "metadata": {},
     "output_type": "execute_result"
    }
   ],
   "source": [
    "X_train.shape"
   ]
  },
  {
   "cell_type": "code",
   "execution_count": 49,
   "metadata": {},
   "outputs": [
    {
     "data": {
      "text/html": [
       "<div>\n",
       "<style scoped>\n",
       "    .dataframe tbody tr th:only-of-type {\n",
       "        vertical-align: middle;\n",
       "    }\n",
       "\n",
       "    .dataframe tbody tr th {\n",
       "        vertical-align: top;\n",
       "    }\n",
       "\n",
       "    .dataframe thead th {\n",
       "        text-align: right;\n",
       "    }\n",
       "</style>\n",
       "<table border=\"1\" class=\"dataframe\">\n",
       "  <thead>\n",
       "    <tr style=\"text-align: right;\">\n",
       "      <th></th>\n",
       "      <th>0</th>\n",
       "      <th>1</th>\n",
       "      <th>2</th>\n",
       "      <th>3</th>\n",
       "      <th>4</th>\n",
       "      <th>5</th>\n",
       "      <th>6</th>\n",
       "      <th>7</th>\n",
       "      <th>8</th>\n",
       "      <th>9</th>\n",
       "      <th>10</th>\n",
       "      <th>11</th>\n",
       "      <th>12</th>\n",
       "      <th>13</th>\n",
       "      <th>14</th>\n",
       "    </tr>\n",
       "  </thead>\n",
       "  <tbody>\n",
       "    <tr>\n",
       "      <th>count</th>\n",
       "      <td>3.375000e+04</td>\n",
       "      <td>3.375000e+04</td>\n",
       "      <td>3.375000e+04</td>\n",
       "      <td>3.375000e+04</td>\n",
       "      <td>3.375000e+04</td>\n",
       "      <td>3.375000e+04</td>\n",
       "      <td>3.375000e+04</td>\n",
       "      <td>3.375000e+04</td>\n",
       "      <td>3.375000e+04</td>\n",
       "      <td>3.375000e+04</td>\n",
       "      <td>3.375000e+04</td>\n",
       "      <td>3.375000e+04</td>\n",
       "      <td>3.375000e+04</td>\n",
       "      <td>3.375000e+04</td>\n",
       "      <td>3.375000e+04</td>\n",
       "    </tr>\n",
       "    <tr>\n",
       "      <th>mean</th>\n",
       "      <td>1.670472e-15</td>\n",
       "      <td>-3.016353e-17</td>\n",
       "      <td>-6.375818e-15</td>\n",
       "      <td>-2.937436e-16</td>\n",
       "      <td>-1.444770e-16</td>\n",
       "      <td>1.924498e-15</td>\n",
       "      <td>-7.619676e-15</td>\n",
       "      <td>3.239750e-15</td>\n",
       "      <td>1.617712e-14</td>\n",
       "      <td>5.532463e-16</td>\n",
       "      <td>3.149415e-17</td>\n",
       "      <td>-1.108841e-16</td>\n",
       "      <td>3.643571e-16</td>\n",
       "      <td>1.262753e-15</td>\n",
       "      <td>2.631037e-14</td>\n",
       "    </tr>\n",
       "    <tr>\n",
       "      <th>std</th>\n",
       "      <td>1.000015e+00</td>\n",
       "      <td>1.000015e+00</td>\n",
       "      <td>1.000015e+00</td>\n",
       "      <td>1.000015e+00</td>\n",
       "      <td>1.000015e+00</td>\n",
       "      <td>1.000015e+00</td>\n",
       "      <td>1.000015e+00</td>\n",
       "      <td>1.000015e+00</td>\n",
       "      <td>1.000015e+00</td>\n",
       "      <td>1.000015e+00</td>\n",
       "      <td>1.000015e+00</td>\n",
       "      <td>1.000015e+00</td>\n",
       "      <td>1.000015e+00</td>\n",
       "      <td>1.000015e+00</td>\n",
       "      <td>1.000015e+00</td>\n",
       "    </tr>\n",
       "    <tr>\n",
       "      <th>min</th>\n",
       "      <td>-4.877078e+01</td>\n",
       "      <td>-3.454131e+00</td>\n",
       "      <td>-1.643280e+00</td>\n",
       "      <td>-1.997923e+00</td>\n",
       "      <td>-1.552441e+00</td>\n",
       "      <td>-2.087726e+01</td>\n",
       "      <td>-1.393188e-01</td>\n",
       "      <td>-3.254579e-02</td>\n",
       "      <td>-1.298103e+00</td>\n",
       "      <td>-9.200558e-01</td>\n",
       "      <td>-1.627008e+00</td>\n",
       "      <td>-1.640688e+00</td>\n",
       "      <td>-1.683464e+00</td>\n",
       "      <td>-1.498429e+00</td>\n",
       "      <td>-8.676744e-01</td>\n",
       "    </tr>\n",
       "    <tr>\n",
       "      <th>25%</th>\n",
       "      <td>1.424833e-02</td>\n",
       "      <td>-6.651441e-01</td>\n",
       "      <td>-6.704049e-01</td>\n",
       "      <td>-6.958346e-01</td>\n",
       "      <td>-7.742261e-01</td>\n",
       "      <td>-6.224042e-01</td>\n",
       "      <td>-1.393188e-01</td>\n",
       "      <td>-3.254579e-02</td>\n",
       "      <td>-1.272377e+00</td>\n",
       "      <td>-9.200558e-01</td>\n",
       "      <td>-1.041884e+00</td>\n",
       "      <td>-9.213650e-01</td>\n",
       "      <td>-8.789067e-01</td>\n",
       "      <td>-9.995832e-01</td>\n",
       "      <td>-8.664181e-01</td>\n",
       "    </tr>\n",
       "    <tr>\n",
       "      <th>50%</th>\n",
       "      <td>1.424833e-02</td>\n",
       "      <td>4.693761e-02</td>\n",
       "      <td>-1.839671e-01</td>\n",
       "      <td>5.289966e-03</td>\n",
       "      <td>3.989074e-03</td>\n",
       "      <td>5.994200e-03</td>\n",
       "      <td>-1.393188e-01</td>\n",
       "      <td>-3.254579e-02</td>\n",
       "      <td>3.483615e-01</td>\n",
       "      <td>-5.549543e-01</td>\n",
       "      <td>4.764441e-02</td>\n",
       "      <td>-5.817675e-02</td>\n",
       "      <td>4.058714e-02</td>\n",
       "      <td>-1.891918e-03</td>\n",
       "      <td>-4.856996e-01</td>\n",
       "    </tr>\n",
       "    <tr>\n",
       "      <th>75%</th>\n",
       "      <td>1.424833e-02</td>\n",
       "      <td>8.183595e-01</td>\n",
       "      <td>7.889083e-01</td>\n",
       "      <td>9.067358e-01</td>\n",
       "      <td>7.822043e-01</td>\n",
       "      <td>7.864605e-01</td>\n",
       "      <td>-1.393188e-01</td>\n",
       "      <td>-3.254579e-02</td>\n",
       "      <td>1.017238e+00</td>\n",
       "      <td>9.054517e-01</td>\n",
       "      <td>8.465567e-01</td>\n",
       "      <td>8.050115e-01</td>\n",
       "      <td>8.451442e-01</td>\n",
       "      <td>9.957994e-01</td>\n",
       "      <td>8.391994e-01</td>\n",
       "    </tr>\n",
       "    <tr>\n",
       "      <th>max</th>\n",
       "      <td>2.789141e+01</td>\n",
       "      <td>1.708462e+00</td>\n",
       "      <td>6.139723e+00</td>\n",
       "      <td>1.607860e+00</td>\n",
       "      <td>1.560420e+00</td>\n",
       "      <td>2.099910e+00</td>\n",
       "      <td>3.960353e+01</td>\n",
       "      <td>5.222439e+01</td>\n",
       "      <td>1.274498e+00</td>\n",
       "      <td>2.730959e+00</td>\n",
       "      <td>2.028605e+00</td>\n",
       "      <td>1.668200e+00</td>\n",
       "      <td>1.764638e+00</td>\n",
       "      <td>1.494645e+00</td>\n",
       "      <td>2.164098e+00</td>\n",
       "    </tr>\n",
       "  </tbody>\n",
       "</table>\n",
       "</div>"
      ],
      "text/plain": [
       "                 0             1             2             3             4   \\\n",
       "count  3.375000e+04  3.375000e+04  3.375000e+04  3.375000e+04  3.375000e+04   \n",
       "mean   1.670472e-15 -3.016353e-17 -6.375818e-15 -2.937436e-16 -1.444770e-16   \n",
       "std    1.000015e+00  1.000015e+00  1.000015e+00  1.000015e+00  1.000015e+00   \n",
       "min   -4.877078e+01 -3.454131e+00 -1.643280e+00 -1.997923e+00 -1.552441e+00   \n",
       "25%    1.424833e-02 -6.651441e-01 -6.704049e-01 -6.958346e-01 -7.742261e-01   \n",
       "50%    1.424833e-02  4.693761e-02 -1.839671e-01  5.289966e-03  3.989074e-03   \n",
       "75%    1.424833e-02  8.183595e-01  7.889083e-01  9.067358e-01  7.822043e-01   \n",
       "max    2.789141e+01  1.708462e+00  6.139723e+00  1.607860e+00  1.560420e+00   \n",
       "\n",
       "                 5             6             7             8             9   \\\n",
       "count  3.375000e+04  3.375000e+04  3.375000e+04  3.375000e+04  3.375000e+04   \n",
       "mean   1.924498e-15 -7.619676e-15  3.239750e-15  1.617712e-14  5.532463e-16   \n",
       "std    1.000015e+00  1.000015e+00  1.000015e+00  1.000015e+00  1.000015e+00   \n",
       "min   -2.087726e+01 -1.393188e-01 -3.254579e-02 -1.298103e+00 -9.200558e-01   \n",
       "25%   -6.224042e-01 -1.393188e-01 -3.254579e-02 -1.272377e+00 -9.200558e-01   \n",
       "50%    5.994200e-03 -1.393188e-01 -3.254579e-02  3.483615e-01 -5.549543e-01   \n",
       "75%    7.864605e-01 -1.393188e-01 -3.254579e-02  1.017238e+00  9.054517e-01   \n",
       "max    2.099910e+00  3.960353e+01  5.222439e+01  1.274498e+00  2.730959e+00   \n",
       "\n",
       "                 10            11            12            13            14  \n",
       "count  3.375000e+04  3.375000e+04  3.375000e+04  3.375000e+04  3.375000e+04  \n",
       "mean   3.149415e-17 -1.108841e-16  3.643571e-16  1.262753e-15  2.631037e-14  \n",
       "std    1.000015e+00  1.000015e+00  1.000015e+00  1.000015e+00  1.000015e+00  \n",
       "min   -1.627008e+00 -1.640688e+00 -1.683464e+00 -1.498429e+00 -8.676744e-01  \n",
       "25%   -1.041884e+00 -9.213650e-01 -8.789067e-01 -9.995832e-01 -8.664181e-01  \n",
       "50%    4.764441e-02 -5.817675e-02  4.058714e-02 -1.891918e-03 -4.856996e-01  \n",
       "75%    8.465567e-01  8.050115e-01  8.451442e-01  9.957994e-01  8.391994e-01  \n",
       "max    2.028605e+00  1.668200e+00  1.764638e+00  1.494645e+00  2.164098e+00  "
      ]
     },
     "execution_count": 49,
     "metadata": {},
     "output_type": "execute_result"
    }
   ],
   "source": [
    "pd.DataFrame(X_train).describe()\n"
   ]
  },
  {
   "cell_type": "code",
   "execution_count": 50,
   "metadata": {},
   "outputs": [
    {
     "data": {
      "text/plain": [
       "array([[-0.40415257],\n",
       "       [ 0.27657226],\n",
       "       [-0.4996929 ],\n",
       "       ...,\n",
       "       [-0.20112938],\n",
       "       [ 0.88564185],\n",
       "       [-0.17724429]])"
      ]
     },
     "execution_count": 50,
     "metadata": {},
     "output_type": "execute_result"
    }
   ],
   "source": [
    "Y_train = Y_train.reshape((len(Y_train), 1))\n",
    "\n",
    "Y_train"
   ]
  },
  {
   "cell_type": "code",
   "execution_count": 51,
   "metadata": {},
   "outputs": [],
   "source": [
    "\n",
    "import matplotlib.pyplot as plt\n",
    "import seaborn as sns\n",
    "from statsmodels.tsa.seasonal import seasonal_decompose\n",
    "from sklearn.ensemble import RandomForestRegressor\n",
    "from sklearn.preprocessing import MinMaxScaler"
   ]
  },
  {
   "cell_type": "code",
   "execution_count": 52,
   "metadata": {},
   "outputs": [
    {
     "name": "stderr",
     "output_type": "stream",
     "text": [
      "/home/raghib/anaconda3/lib/python3.7/site-packages/ipykernel_launcher.py:2: DataConversionWarning: A column-vector y was passed when a 1d array was expected. Please change the shape of y to (n_samples,), for example using ravel().\n",
      "  \n"
     ]
    },
    {
     "data": {
      "text/plain": [
       "RandomForestRegressor(bootstrap=True, criterion='mse', max_depth=None,\n",
       "                      max_features='auto', max_leaf_nodes=None,\n",
       "                      min_impurity_decrease=0.0, min_impurity_split=None,\n",
       "                      min_samples_leaf=1, min_samples_split=2,\n",
       "                      min_weight_fraction_leaf=0.0, n_estimators=500,\n",
       "                      n_jobs=None, oob_score=False, random_state=0, verbose=0,\n",
       "                      warm_start=False)"
      ]
     },
     "execution_count": 52,
     "metadata": {},
     "output_type": "execute_result"
    }
   ],
   "source": [
    "model = RandomForestRegressor(random_state=0, n_estimators=500)\n",
    "model.fit(X_train, Y_train)"
   ]
  },
  {
   "cell_type": "code",
   "execution_count": 53,
   "metadata": {},
   "outputs": [
    {
     "data": {
      "text/plain": [
       "0.8561483666605565"
      ]
     },
     "execution_count": 53,
     "metadata": {},
     "output_type": "execute_result"
    }
   ],
   "source": [
    "model.score(X_train,Y_train)\n"
   ]
  },
  {
   "cell_type": "code",
   "execution_count": 54,
   "metadata": {},
   "outputs": [
    {
     "data": {
      "text/plain": [
       "array([[-0.40415257],\n",
       "       [ 0.27657226],\n",
       "       [-0.4996929 ],\n",
       "       ...,\n",
       "       [-0.20112938],\n",
       "       [ 0.88564185],\n",
       "       [-0.17724429]])"
      ]
     },
     "execution_count": 54,
     "metadata": {},
     "output_type": "execute_result"
    }
   ],
   "source": [
    "Y_train"
   ]
  },
  {
   "cell_type": "code",
   "execution_count": 55,
   "metadata": {},
   "outputs": [],
   "source": [
    "y_test = model.predict(X_test)\n"
   ]
  },
  {
   "cell_type": "code",
   "execution_count": 56,
   "metadata": {},
   "outputs": [
    {
     "data": {
      "text/plain": [
       "array([ 0.15205933,  0.10436082,  0.22404897, ...,  0.01402744,\n",
       "        0.02938555, -0.03467424])"
      ]
     },
     "execution_count": 56,
     "metadata": {},
     "output_type": "execute_result"
    }
   ],
   "source": [
    "y_test"
   ]
  },
  {
   "cell_type": "code",
   "execution_count": 57,
   "metadata": {},
   "outputs": [],
   "source": [
    "y_test= sc_X.inverse_transform(y_test)\n"
   ]
  },
  {
   "cell_type": "code",
   "execution_count": 59,
   "metadata": {},
   "outputs": [
    {
     "data": {
      "text/plain": [
       "array([167.574, 163.58 , 173.602, ..., 156.016, 157.302, 151.938])"
      ]
     },
     "execution_count": 59,
     "metadata": {},
     "output_type": "execute_result"
    }
   ],
   "source": [
    "y_test"
   ]
  },
  {
   "cell_type": "code",
   "execution_count": 60,
   "metadata": {},
   "outputs": [
    {
     "data": {
      "text/plain": [
       "14454"
      ]
     },
     "execution_count": 60,
     "metadata": {},
     "output_type": "execute_result"
    }
   ],
   "source": [
    "len(y_test)"
   ]
  },
  {
   "cell_type": "code",
   "execution_count": 61,
   "metadata": {},
   "outputs": [],
   "source": [
    "submission=pd.DataFrame(y_test,columns=['air_pollution_index'])"
   ]
  },
  {
   "cell_type": "code",
   "execution_count": 62,
   "metadata": {},
   "outputs": [],
   "source": [
    "test1=pd.read_csv('test1.csv',sep=\",\")\n"
   ]
  },
  {
   "cell_type": "code",
   "execution_count": 63,
   "metadata": {},
   "outputs": [],
   "source": [
    "date=pd.DataFrame(test1.date_time)"
   ]
  },
  {
   "cell_type": "code",
   "execution_count": 64,
   "metadata": {},
   "outputs": [],
   "source": [
    "date['air_pollution_index']=submission.air_pollution_index"
   ]
  },
  {
   "cell_type": "code",
   "execution_count": 65,
   "metadata": {},
   "outputs": [],
   "source": [
    "date.to_csv('final2.csv',index=False)"
   ]
  },
  {
   "cell_type": "code",
   "execution_count": 90,
   "metadata": {},
   "outputs": [
    {
     "data": {
      "text/html": [
       "<div>\n",
       "<style scoped>\n",
       "    .dataframe tbody tr th:only-of-type {\n",
       "        vertical-align: middle;\n",
       "    }\n",
       "\n",
       "    .dataframe tbody tr th {\n",
       "        vertical-align: top;\n",
       "    }\n",
       "\n",
       "    .dataframe thead th {\n",
       "        text-align: right;\n",
       "    }\n",
       "</style>\n",
       "<table border=\"1\" class=\"dataframe\">\n",
       "  <thead>\n",
       "    <tr style=\"text-align: right;\">\n",
       "      <th></th>\n",
       "      <th>date_time</th>\n",
       "      <th>air_pollution_index</th>\n",
       "    </tr>\n",
       "  </thead>\n",
       "  <tbody>\n",
       "    <tr>\n",
       "      <th>0</th>\n",
       "      <td>2017-05-18 00:00:00</td>\n",
       "      <td>171.2580</td>\n",
       "    </tr>\n",
       "    <tr>\n",
       "      <th>1</th>\n",
       "      <td>2017-05-18 00:00:00</td>\n",
       "      <td>167.3160</td>\n",
       "    </tr>\n",
       "    <tr>\n",
       "      <th>2</th>\n",
       "      <td>2017-05-18 00:00:00</td>\n",
       "      <td>173.3280</td>\n",
       "    </tr>\n",
       "    <tr>\n",
       "      <th>3</th>\n",
       "      <td>2017-05-18 01:00:00</td>\n",
       "      <td>167.1680</td>\n",
       "    </tr>\n",
       "    <tr>\n",
       "      <th>4</th>\n",
       "      <td>2017-05-18 01:00:00</td>\n",
       "      <td>167.2700</td>\n",
       "    </tr>\n",
       "    <tr>\n",
       "      <th>5</th>\n",
       "      <td>2017-05-18 02:00:00</td>\n",
       "      <td>148.2900</td>\n",
       "    </tr>\n",
       "    <tr>\n",
       "      <th>6</th>\n",
       "      <td>2017-05-18 02:00:00</td>\n",
       "      <td>148.3800</td>\n",
       "    </tr>\n",
       "    <tr>\n",
       "      <th>7</th>\n",
       "      <td>2017-05-18 02:00:00</td>\n",
       "      <td>156.9440</td>\n",
       "    </tr>\n",
       "    <tr>\n",
       "      <th>8</th>\n",
       "      <td>2017-05-18 03:00:00</td>\n",
       "      <td>164.0800</td>\n",
       "    </tr>\n",
       "    <tr>\n",
       "      <th>9</th>\n",
       "      <td>2017-05-18 03:00:00</td>\n",
       "      <td>154.8020</td>\n",
       "    </tr>\n",
       "    <tr>\n",
       "      <th>10</th>\n",
       "      <td>2017-05-18 03:00:00</td>\n",
       "      <td>161.0040</td>\n",
       "    </tr>\n",
       "    <tr>\n",
       "      <th>11</th>\n",
       "      <td>2017-05-18 04:00:00</td>\n",
       "      <td>167.4160</td>\n",
       "    </tr>\n",
       "    <tr>\n",
       "      <th>12</th>\n",
       "      <td>2017-05-18 04:00:00</td>\n",
       "      <td>157.3800</td>\n",
       "    </tr>\n",
       "    <tr>\n",
       "      <th>13</th>\n",
       "      <td>2017-05-18 04:00:00</td>\n",
       "      <td>167.0860</td>\n",
       "    </tr>\n",
       "    <tr>\n",
       "      <th>14</th>\n",
       "      <td>2017-05-18 05:00:00</td>\n",
       "      <td>162.9000</td>\n",
       "    </tr>\n",
       "    <tr>\n",
       "      <th>15</th>\n",
       "      <td>2017-05-18 05:00:00</td>\n",
       "      <td>165.1400</td>\n",
       "    </tr>\n",
       "    <tr>\n",
       "      <th>16</th>\n",
       "      <td>2017-05-18 05:00:00</td>\n",
       "      <td>163.1140</td>\n",
       "    </tr>\n",
       "    <tr>\n",
       "      <th>17</th>\n",
       "      <td>2017-05-18 06:00:00</td>\n",
       "      <td>147.7400</td>\n",
       "    </tr>\n",
       "    <tr>\n",
       "      <th>18</th>\n",
       "      <td>2017-05-18 06:00:00</td>\n",
       "      <td>145.1480</td>\n",
       "    </tr>\n",
       "    <tr>\n",
       "      <th>19</th>\n",
       "      <td>2017-05-18 07:00:00</td>\n",
       "      <td>155.6800</td>\n",
       "    </tr>\n",
       "    <tr>\n",
       "      <th>20</th>\n",
       "      <td>2017-05-18 07:00:00</td>\n",
       "      <td>150.3320</td>\n",
       "    </tr>\n",
       "    <tr>\n",
       "      <th>21</th>\n",
       "      <td>2017-05-18 08:00:00</td>\n",
       "      <td>161.8120</td>\n",
       "    </tr>\n",
       "    <tr>\n",
       "      <th>22</th>\n",
       "      <td>2017-05-18 08:00:00</td>\n",
       "      <td>150.2320</td>\n",
       "    </tr>\n",
       "    <tr>\n",
       "      <th>23</th>\n",
       "      <td>2017-05-18 08:00:00</td>\n",
       "      <td>168.4860</td>\n",
       "    </tr>\n",
       "    <tr>\n",
       "      <th>24</th>\n",
       "      <td>2017-05-18 09:00:00</td>\n",
       "      <td>157.2020</td>\n",
       "    </tr>\n",
       "    <tr>\n",
       "      <th>25</th>\n",
       "      <td>2017-05-18 09:00:00</td>\n",
       "      <td>153.9140</td>\n",
       "    </tr>\n",
       "    <tr>\n",
       "      <th>26</th>\n",
       "      <td>2017-05-18 09:00:00</td>\n",
       "      <td>145.1520</td>\n",
       "    </tr>\n",
       "    <tr>\n",
       "      <th>27</th>\n",
       "      <td>2017-05-18 10:00:00</td>\n",
       "      <td>154.6020</td>\n",
       "    </tr>\n",
       "    <tr>\n",
       "      <th>28</th>\n",
       "      <td>2017-05-18 10:00:00</td>\n",
       "      <td>141.0340</td>\n",
       "    </tr>\n",
       "    <tr>\n",
       "      <th>29</th>\n",
       "      <td>2017-05-18 11:00:00</td>\n",
       "      <td>149.3260</td>\n",
       "    </tr>\n",
       "    <tr>\n",
       "      <th>...</th>\n",
       "      <td>...</td>\n",
       "      <td>...</td>\n",
       "    </tr>\n",
       "    <tr>\n",
       "      <th>14424</th>\n",
       "      <td>2018-09-29 20:00:00</td>\n",
       "      <td>134.3220</td>\n",
       "    </tr>\n",
       "    <tr>\n",
       "      <th>14425</th>\n",
       "      <td>2018-09-29 21:00:00</td>\n",
       "      <td>165.2580</td>\n",
       "    </tr>\n",
       "    <tr>\n",
       "      <th>14426</th>\n",
       "      <td>2018-09-29 22:00:00</td>\n",
       "      <td>159.0300</td>\n",
       "    </tr>\n",
       "    <tr>\n",
       "      <th>14427</th>\n",
       "      <td>2018-09-29 23:00:00</td>\n",
       "      <td>147.1960</td>\n",
       "    </tr>\n",
       "    <tr>\n",
       "      <th>14428</th>\n",
       "      <td>2018-09-30 00:00:00</td>\n",
       "      <td>173.3460</td>\n",
       "    </tr>\n",
       "    <tr>\n",
       "      <th>14429</th>\n",
       "      <td>2018-09-30 01:00:00</td>\n",
       "      <td>163.0320</td>\n",
       "    </tr>\n",
       "    <tr>\n",
       "      <th>14430</th>\n",
       "      <td>2018-09-30 02:00:00</td>\n",
       "      <td>148.3080</td>\n",
       "    </tr>\n",
       "    <tr>\n",
       "      <th>14431</th>\n",
       "      <td>2018-09-30 03:00:00</td>\n",
       "      <td>149.4500</td>\n",
       "    </tr>\n",
       "    <tr>\n",
       "      <th>14432</th>\n",
       "      <td>2018-09-30 04:00:00</td>\n",
       "      <td>127.4960</td>\n",
       "    </tr>\n",
       "    <tr>\n",
       "      <th>14433</th>\n",
       "      <td>2018-09-30 05:00:00</td>\n",
       "      <td>149.1280</td>\n",
       "    </tr>\n",
       "    <tr>\n",
       "      <th>14434</th>\n",
       "      <td>2018-09-30 06:00:00</td>\n",
       "      <td>147.7924</td>\n",
       "    </tr>\n",
       "    <tr>\n",
       "      <th>14435</th>\n",
       "      <td>2018-09-30 07:00:00</td>\n",
       "      <td>150.2940</td>\n",
       "    </tr>\n",
       "    <tr>\n",
       "      <th>14436</th>\n",
       "      <td>2018-09-30 08:00:00</td>\n",
       "      <td>154.5600</td>\n",
       "    </tr>\n",
       "    <tr>\n",
       "      <th>14437</th>\n",
       "      <td>2018-09-30 09:00:00</td>\n",
       "      <td>156.4000</td>\n",
       "    </tr>\n",
       "    <tr>\n",
       "      <th>14438</th>\n",
       "      <td>2018-09-30 10:00:00</td>\n",
       "      <td>142.9060</td>\n",
       "    </tr>\n",
       "    <tr>\n",
       "      <th>14439</th>\n",
       "      <td>2018-09-30 11:00:00</td>\n",
       "      <td>148.9940</td>\n",
       "    </tr>\n",
       "    <tr>\n",
       "      <th>14440</th>\n",
       "      <td>2018-09-30 12:00:00</td>\n",
       "      <td>147.1400</td>\n",
       "    </tr>\n",
       "    <tr>\n",
       "      <th>14441</th>\n",
       "      <td>2018-09-30 13:00:00</td>\n",
       "      <td>157.2760</td>\n",
       "    </tr>\n",
       "    <tr>\n",
       "      <th>14442</th>\n",
       "      <td>2018-09-30 14:00:00</td>\n",
       "      <td>145.9800</td>\n",
       "    </tr>\n",
       "    <tr>\n",
       "      <th>14443</th>\n",
       "      <td>2018-09-30 14:00:00</td>\n",
       "      <td>162.5500</td>\n",
       "    </tr>\n",
       "    <tr>\n",
       "      <th>14444</th>\n",
       "      <td>2018-09-30 15:00:00</td>\n",
       "      <td>144.9680</td>\n",
       "    </tr>\n",
       "    <tr>\n",
       "      <th>14445</th>\n",
       "      <td>2018-09-30 15:00:00</td>\n",
       "      <td>144.6680</td>\n",
       "    </tr>\n",
       "    <tr>\n",
       "      <th>14446</th>\n",
       "      <td>2018-09-30 16:00:00</td>\n",
       "      <td>169.3920</td>\n",
       "    </tr>\n",
       "    <tr>\n",
       "      <th>14447</th>\n",
       "      <td>2018-09-30 17:00:00</td>\n",
       "      <td>156.8960</td>\n",
       "    </tr>\n",
       "    <tr>\n",
       "      <th>14448</th>\n",
       "      <td>2018-09-30 18:00:00</td>\n",
       "      <td>139.6060</td>\n",
       "    </tr>\n",
       "    <tr>\n",
       "      <th>14449</th>\n",
       "      <td>2018-09-30 19:00:00</td>\n",
       "      <td>117.5300</td>\n",
       "    </tr>\n",
       "    <tr>\n",
       "      <th>14450</th>\n",
       "      <td>2018-09-30 20:00:00</td>\n",
       "      <td>147.5220</td>\n",
       "    </tr>\n",
       "    <tr>\n",
       "      <th>14451</th>\n",
       "      <td>2018-09-30 21:00:00</td>\n",
       "      <td>160.1520</td>\n",
       "    </tr>\n",
       "    <tr>\n",
       "      <th>14452</th>\n",
       "      <td>2018-09-30 22:00:00</td>\n",
       "      <td>155.0940</td>\n",
       "    </tr>\n",
       "    <tr>\n",
       "      <th>14453</th>\n",
       "      <td>2018-09-30 23:00:00</td>\n",
       "      <td>151.3380</td>\n",
       "    </tr>\n",
       "  </tbody>\n",
       "</table>\n",
       "<p>14454 rows × 2 columns</p>\n",
       "</div>"
      ],
      "text/plain": [
       "                 date_time  air_pollution_index\n",
       "0      2017-05-18 00:00:00             171.2580\n",
       "1      2017-05-18 00:00:00             167.3160\n",
       "2      2017-05-18 00:00:00             173.3280\n",
       "3      2017-05-18 01:00:00             167.1680\n",
       "4      2017-05-18 01:00:00             167.2700\n",
       "5      2017-05-18 02:00:00             148.2900\n",
       "6      2017-05-18 02:00:00             148.3800\n",
       "7      2017-05-18 02:00:00             156.9440\n",
       "8      2017-05-18 03:00:00             164.0800\n",
       "9      2017-05-18 03:00:00             154.8020\n",
       "10     2017-05-18 03:00:00             161.0040\n",
       "11     2017-05-18 04:00:00             167.4160\n",
       "12     2017-05-18 04:00:00             157.3800\n",
       "13     2017-05-18 04:00:00             167.0860\n",
       "14     2017-05-18 05:00:00             162.9000\n",
       "15     2017-05-18 05:00:00             165.1400\n",
       "16     2017-05-18 05:00:00             163.1140\n",
       "17     2017-05-18 06:00:00             147.7400\n",
       "18     2017-05-18 06:00:00             145.1480\n",
       "19     2017-05-18 07:00:00             155.6800\n",
       "20     2017-05-18 07:00:00             150.3320\n",
       "21     2017-05-18 08:00:00             161.8120\n",
       "22     2017-05-18 08:00:00             150.2320\n",
       "23     2017-05-18 08:00:00             168.4860\n",
       "24     2017-05-18 09:00:00             157.2020\n",
       "25     2017-05-18 09:00:00             153.9140\n",
       "26     2017-05-18 09:00:00             145.1520\n",
       "27     2017-05-18 10:00:00             154.6020\n",
       "28     2017-05-18 10:00:00             141.0340\n",
       "29     2017-05-18 11:00:00             149.3260\n",
       "...                    ...                  ...\n",
       "14424  2018-09-29 20:00:00             134.3220\n",
       "14425  2018-09-29 21:00:00             165.2580\n",
       "14426  2018-09-29 22:00:00             159.0300\n",
       "14427  2018-09-29 23:00:00             147.1960\n",
       "14428  2018-09-30 00:00:00             173.3460\n",
       "14429  2018-09-30 01:00:00             163.0320\n",
       "14430  2018-09-30 02:00:00             148.3080\n",
       "14431  2018-09-30 03:00:00             149.4500\n",
       "14432  2018-09-30 04:00:00             127.4960\n",
       "14433  2018-09-30 05:00:00             149.1280\n",
       "14434  2018-09-30 06:00:00             147.7924\n",
       "14435  2018-09-30 07:00:00             150.2940\n",
       "14436  2018-09-30 08:00:00             154.5600\n",
       "14437  2018-09-30 09:00:00             156.4000\n",
       "14438  2018-09-30 10:00:00             142.9060\n",
       "14439  2018-09-30 11:00:00             148.9940\n",
       "14440  2018-09-30 12:00:00             147.1400\n",
       "14441  2018-09-30 13:00:00             157.2760\n",
       "14442  2018-09-30 14:00:00             145.9800\n",
       "14443  2018-09-30 14:00:00             162.5500\n",
       "14444  2018-09-30 15:00:00             144.9680\n",
       "14445  2018-09-30 15:00:00             144.6680\n",
       "14446  2018-09-30 16:00:00             169.3920\n",
       "14447  2018-09-30 17:00:00             156.8960\n",
       "14448  2018-09-30 18:00:00             139.6060\n",
       "14449  2018-09-30 19:00:00             117.5300\n",
       "14450  2018-09-30 20:00:00             147.5220\n",
       "14451  2018-09-30 21:00:00             160.1520\n",
       "14452  2018-09-30 22:00:00             155.0940\n",
       "14453  2018-09-30 23:00:00             151.3380\n",
       "\n",
       "[14454 rows x 2 columns]"
      ]
     },
     "execution_count": 90,
     "metadata": {},
     "output_type": "execute_result"
    }
   ],
   "source": [
    "final=pd.read_csv('final.csv')\n",
    "final"
   ]
  },
  {
   "cell_type": "code",
   "execution_count": 92,
   "metadata": {},
   "outputs": [
    {
     "data": {
      "text/html": [
       "<div>\n",
       "<style scoped>\n",
       "    .dataframe tbody tr th:only-of-type {\n",
       "        vertical-align: middle;\n",
       "    }\n",
       "\n",
       "    .dataframe tbody tr th {\n",
       "        vertical-align: top;\n",
       "    }\n",
       "\n",
       "    .dataframe thead th {\n",
       "        text-align: right;\n",
       "    }\n",
       "</style>\n",
       "<table border=\"1\" class=\"dataframe\">\n",
       "  <thead>\n",
       "    <tr style=\"text-align: right;\">\n",
       "      <th></th>\n",
       "      <th>date_time</th>\n",
       "      <th>air_pollution_index</th>\n",
       "    </tr>\n",
       "  </thead>\n",
       "  <tbody>\n",
       "    <tr>\n",
       "      <th>0</th>\n",
       "      <td>2017-05-18 00:00:00</td>\n",
       "      <td>171</td>\n",
       "    </tr>\n",
       "    <tr>\n",
       "      <th>1</th>\n",
       "      <td>2017-05-18 00:00:00</td>\n",
       "      <td>167</td>\n",
       "    </tr>\n",
       "    <tr>\n",
       "      <th>2</th>\n",
       "      <td>2017-05-18 00:00:00</td>\n",
       "      <td>173</td>\n",
       "    </tr>\n",
       "    <tr>\n",
       "      <th>3</th>\n",
       "      <td>2017-05-18 01:00:00</td>\n",
       "      <td>167</td>\n",
       "    </tr>\n",
       "    <tr>\n",
       "      <th>4</th>\n",
       "      <td>2017-05-18 01:00:00</td>\n",
       "      <td>167</td>\n",
       "    </tr>\n",
       "    <tr>\n",
       "      <th>5</th>\n",
       "      <td>2017-05-18 02:00:00</td>\n",
       "      <td>148</td>\n",
       "    </tr>\n",
       "    <tr>\n",
       "      <th>6</th>\n",
       "      <td>2017-05-18 02:00:00</td>\n",
       "      <td>148</td>\n",
       "    </tr>\n",
       "    <tr>\n",
       "      <th>7</th>\n",
       "      <td>2017-05-18 02:00:00</td>\n",
       "      <td>157</td>\n",
       "    </tr>\n",
       "    <tr>\n",
       "      <th>8</th>\n",
       "      <td>2017-05-18 03:00:00</td>\n",
       "      <td>164</td>\n",
       "    </tr>\n",
       "    <tr>\n",
       "      <th>9</th>\n",
       "      <td>2017-05-18 03:00:00</td>\n",
       "      <td>155</td>\n",
       "    </tr>\n",
       "    <tr>\n",
       "      <th>10</th>\n",
       "      <td>2017-05-18 03:00:00</td>\n",
       "      <td>161</td>\n",
       "    </tr>\n",
       "    <tr>\n",
       "      <th>11</th>\n",
       "      <td>2017-05-18 04:00:00</td>\n",
       "      <td>167</td>\n",
       "    </tr>\n",
       "    <tr>\n",
       "      <th>12</th>\n",
       "      <td>2017-05-18 04:00:00</td>\n",
       "      <td>157</td>\n",
       "    </tr>\n",
       "    <tr>\n",
       "      <th>13</th>\n",
       "      <td>2017-05-18 04:00:00</td>\n",
       "      <td>167</td>\n",
       "    </tr>\n",
       "    <tr>\n",
       "      <th>14</th>\n",
       "      <td>2017-05-18 05:00:00</td>\n",
       "      <td>163</td>\n",
       "    </tr>\n",
       "    <tr>\n",
       "      <th>15</th>\n",
       "      <td>2017-05-18 05:00:00</td>\n",
       "      <td>165</td>\n",
       "    </tr>\n",
       "    <tr>\n",
       "      <th>16</th>\n",
       "      <td>2017-05-18 05:00:00</td>\n",
       "      <td>163</td>\n",
       "    </tr>\n",
       "    <tr>\n",
       "      <th>17</th>\n",
       "      <td>2017-05-18 06:00:00</td>\n",
       "      <td>148</td>\n",
       "    </tr>\n",
       "    <tr>\n",
       "      <th>18</th>\n",
       "      <td>2017-05-18 06:00:00</td>\n",
       "      <td>145</td>\n",
       "    </tr>\n",
       "    <tr>\n",
       "      <th>19</th>\n",
       "      <td>2017-05-18 07:00:00</td>\n",
       "      <td>156</td>\n",
       "    </tr>\n",
       "    <tr>\n",
       "      <th>20</th>\n",
       "      <td>2017-05-18 07:00:00</td>\n",
       "      <td>150</td>\n",
       "    </tr>\n",
       "    <tr>\n",
       "      <th>21</th>\n",
       "      <td>2017-05-18 08:00:00</td>\n",
       "      <td>162</td>\n",
       "    </tr>\n",
       "    <tr>\n",
       "      <th>22</th>\n",
       "      <td>2017-05-18 08:00:00</td>\n",
       "      <td>150</td>\n",
       "    </tr>\n",
       "    <tr>\n",
       "      <th>23</th>\n",
       "      <td>2017-05-18 08:00:00</td>\n",
       "      <td>168</td>\n",
       "    </tr>\n",
       "    <tr>\n",
       "      <th>24</th>\n",
       "      <td>2017-05-18 09:00:00</td>\n",
       "      <td>157</td>\n",
       "    </tr>\n",
       "    <tr>\n",
       "      <th>25</th>\n",
       "      <td>2017-05-18 09:00:00</td>\n",
       "      <td>154</td>\n",
       "    </tr>\n",
       "    <tr>\n",
       "      <th>26</th>\n",
       "      <td>2017-05-18 09:00:00</td>\n",
       "      <td>145</td>\n",
       "    </tr>\n",
       "    <tr>\n",
       "      <th>27</th>\n",
       "      <td>2017-05-18 10:00:00</td>\n",
       "      <td>155</td>\n",
       "    </tr>\n",
       "    <tr>\n",
       "      <th>28</th>\n",
       "      <td>2017-05-18 10:00:00</td>\n",
       "      <td>141</td>\n",
       "    </tr>\n",
       "    <tr>\n",
       "      <th>29</th>\n",
       "      <td>2017-05-18 11:00:00</td>\n",
       "      <td>149</td>\n",
       "    </tr>\n",
       "    <tr>\n",
       "      <th>...</th>\n",
       "      <td>...</td>\n",
       "      <td>...</td>\n",
       "    </tr>\n",
       "    <tr>\n",
       "      <th>14424</th>\n",
       "      <td>2018-09-29 20:00:00</td>\n",
       "      <td>134</td>\n",
       "    </tr>\n",
       "    <tr>\n",
       "      <th>14425</th>\n",
       "      <td>2018-09-29 21:00:00</td>\n",
       "      <td>165</td>\n",
       "    </tr>\n",
       "    <tr>\n",
       "      <th>14426</th>\n",
       "      <td>2018-09-29 22:00:00</td>\n",
       "      <td>159</td>\n",
       "    </tr>\n",
       "    <tr>\n",
       "      <th>14427</th>\n",
       "      <td>2018-09-29 23:00:00</td>\n",
       "      <td>147</td>\n",
       "    </tr>\n",
       "    <tr>\n",
       "      <th>14428</th>\n",
       "      <td>2018-09-30 00:00:00</td>\n",
       "      <td>173</td>\n",
       "    </tr>\n",
       "    <tr>\n",
       "      <th>14429</th>\n",
       "      <td>2018-09-30 01:00:00</td>\n",
       "      <td>163</td>\n",
       "    </tr>\n",
       "    <tr>\n",
       "      <th>14430</th>\n",
       "      <td>2018-09-30 02:00:00</td>\n",
       "      <td>148</td>\n",
       "    </tr>\n",
       "    <tr>\n",
       "      <th>14431</th>\n",
       "      <td>2018-09-30 03:00:00</td>\n",
       "      <td>149</td>\n",
       "    </tr>\n",
       "    <tr>\n",
       "      <th>14432</th>\n",
       "      <td>2018-09-30 04:00:00</td>\n",
       "      <td>127</td>\n",
       "    </tr>\n",
       "    <tr>\n",
       "      <th>14433</th>\n",
       "      <td>2018-09-30 05:00:00</td>\n",
       "      <td>149</td>\n",
       "    </tr>\n",
       "    <tr>\n",
       "      <th>14434</th>\n",
       "      <td>2018-09-30 06:00:00</td>\n",
       "      <td>148</td>\n",
       "    </tr>\n",
       "    <tr>\n",
       "      <th>14435</th>\n",
       "      <td>2018-09-30 07:00:00</td>\n",
       "      <td>150</td>\n",
       "    </tr>\n",
       "    <tr>\n",
       "      <th>14436</th>\n",
       "      <td>2018-09-30 08:00:00</td>\n",
       "      <td>155</td>\n",
       "    </tr>\n",
       "    <tr>\n",
       "      <th>14437</th>\n",
       "      <td>2018-09-30 09:00:00</td>\n",
       "      <td>156</td>\n",
       "    </tr>\n",
       "    <tr>\n",
       "      <th>14438</th>\n",
       "      <td>2018-09-30 10:00:00</td>\n",
       "      <td>143</td>\n",
       "    </tr>\n",
       "    <tr>\n",
       "      <th>14439</th>\n",
       "      <td>2018-09-30 11:00:00</td>\n",
       "      <td>149</td>\n",
       "    </tr>\n",
       "    <tr>\n",
       "      <th>14440</th>\n",
       "      <td>2018-09-30 12:00:00</td>\n",
       "      <td>147</td>\n",
       "    </tr>\n",
       "    <tr>\n",
       "      <th>14441</th>\n",
       "      <td>2018-09-30 13:00:00</td>\n",
       "      <td>157</td>\n",
       "    </tr>\n",
       "    <tr>\n",
       "      <th>14442</th>\n",
       "      <td>2018-09-30 14:00:00</td>\n",
       "      <td>146</td>\n",
       "    </tr>\n",
       "    <tr>\n",
       "      <th>14443</th>\n",
       "      <td>2018-09-30 14:00:00</td>\n",
       "      <td>163</td>\n",
       "    </tr>\n",
       "    <tr>\n",
       "      <th>14444</th>\n",
       "      <td>2018-09-30 15:00:00</td>\n",
       "      <td>145</td>\n",
       "    </tr>\n",
       "    <tr>\n",
       "      <th>14445</th>\n",
       "      <td>2018-09-30 15:00:00</td>\n",
       "      <td>145</td>\n",
       "    </tr>\n",
       "    <tr>\n",
       "      <th>14446</th>\n",
       "      <td>2018-09-30 16:00:00</td>\n",
       "      <td>169</td>\n",
       "    </tr>\n",
       "    <tr>\n",
       "      <th>14447</th>\n",
       "      <td>2018-09-30 17:00:00</td>\n",
       "      <td>157</td>\n",
       "    </tr>\n",
       "    <tr>\n",
       "      <th>14448</th>\n",
       "      <td>2018-09-30 18:00:00</td>\n",
       "      <td>140</td>\n",
       "    </tr>\n",
       "    <tr>\n",
       "      <th>14449</th>\n",
       "      <td>2018-09-30 19:00:00</td>\n",
       "      <td>118</td>\n",
       "    </tr>\n",
       "    <tr>\n",
       "      <th>14450</th>\n",
       "      <td>2018-09-30 20:00:00</td>\n",
       "      <td>148</td>\n",
       "    </tr>\n",
       "    <tr>\n",
       "      <th>14451</th>\n",
       "      <td>2018-09-30 21:00:00</td>\n",
       "      <td>160</td>\n",
       "    </tr>\n",
       "    <tr>\n",
       "      <th>14452</th>\n",
       "      <td>2018-09-30 22:00:00</td>\n",
       "      <td>155</td>\n",
       "    </tr>\n",
       "    <tr>\n",
       "      <th>14453</th>\n",
       "      <td>2018-09-30 23:00:00</td>\n",
       "      <td>151</td>\n",
       "    </tr>\n",
       "  </tbody>\n",
       "</table>\n",
       "<p>14454 rows × 2 columns</p>\n",
       "</div>"
      ],
      "text/plain": [
       "                 date_time  air_pollution_index\n",
       "0      2017-05-18 00:00:00                  171\n",
       "1      2017-05-18 00:00:00                  167\n",
       "2      2017-05-18 00:00:00                  173\n",
       "3      2017-05-18 01:00:00                  167\n",
       "4      2017-05-18 01:00:00                  167\n",
       "5      2017-05-18 02:00:00                  148\n",
       "6      2017-05-18 02:00:00                  148\n",
       "7      2017-05-18 02:00:00                  157\n",
       "8      2017-05-18 03:00:00                  164\n",
       "9      2017-05-18 03:00:00                  155\n",
       "10     2017-05-18 03:00:00                  161\n",
       "11     2017-05-18 04:00:00                  167\n",
       "12     2017-05-18 04:00:00                  157\n",
       "13     2017-05-18 04:00:00                  167\n",
       "14     2017-05-18 05:00:00                  163\n",
       "15     2017-05-18 05:00:00                  165\n",
       "16     2017-05-18 05:00:00                  163\n",
       "17     2017-05-18 06:00:00                  148\n",
       "18     2017-05-18 06:00:00                  145\n",
       "19     2017-05-18 07:00:00                  156\n",
       "20     2017-05-18 07:00:00                  150\n",
       "21     2017-05-18 08:00:00                  162\n",
       "22     2017-05-18 08:00:00                  150\n",
       "23     2017-05-18 08:00:00                  168\n",
       "24     2017-05-18 09:00:00                  157\n",
       "25     2017-05-18 09:00:00                  154\n",
       "26     2017-05-18 09:00:00                  145\n",
       "27     2017-05-18 10:00:00                  155\n",
       "28     2017-05-18 10:00:00                  141\n",
       "29     2017-05-18 11:00:00                  149\n",
       "...                    ...                  ...\n",
       "14424  2018-09-29 20:00:00                  134\n",
       "14425  2018-09-29 21:00:00                  165\n",
       "14426  2018-09-29 22:00:00                  159\n",
       "14427  2018-09-29 23:00:00                  147\n",
       "14428  2018-09-30 00:00:00                  173\n",
       "14429  2018-09-30 01:00:00                  163\n",
       "14430  2018-09-30 02:00:00                  148\n",
       "14431  2018-09-30 03:00:00                  149\n",
       "14432  2018-09-30 04:00:00                  127\n",
       "14433  2018-09-30 05:00:00                  149\n",
       "14434  2018-09-30 06:00:00                  148\n",
       "14435  2018-09-30 07:00:00                  150\n",
       "14436  2018-09-30 08:00:00                  155\n",
       "14437  2018-09-30 09:00:00                  156\n",
       "14438  2018-09-30 10:00:00                  143\n",
       "14439  2018-09-30 11:00:00                  149\n",
       "14440  2018-09-30 12:00:00                  147\n",
       "14441  2018-09-30 13:00:00                  157\n",
       "14442  2018-09-30 14:00:00                  146\n",
       "14443  2018-09-30 14:00:00                  163\n",
       "14444  2018-09-30 15:00:00                  145\n",
       "14445  2018-09-30 15:00:00                  145\n",
       "14446  2018-09-30 16:00:00                  169\n",
       "14447  2018-09-30 17:00:00                  157\n",
       "14448  2018-09-30 18:00:00                  140\n",
       "14449  2018-09-30 19:00:00                  118\n",
       "14450  2018-09-30 20:00:00                  148\n",
       "14451  2018-09-30 21:00:00                  160\n",
       "14452  2018-09-30 22:00:00                  155\n",
       "14453  2018-09-30 23:00:00                  151\n",
       "\n",
       "[14454 rows x 2 columns]"
      ]
     },
     "execution_count": 92,
     "metadata": {},
     "output_type": "execute_result"
    }
   ],
   "source": [
    "final[\"air_pollution_index\"] = final[\"air_pollution_index\"].round().astype(int)\n",
    "final"
   ]
  },
  {
   "cell_type": "code",
   "execution_count": 93,
   "metadata": {},
   "outputs": [],
   "source": [
    "final.to_csv('final5.csv',index=False)"
   ]
  },
  {
   "cell_type": "code",
   "execution_count": 74,
   "metadata": {},
   "outputs": [
    {
     "name": "stdout",
     "output_type": "stream",
     "text": [
      "Requirement already satisfied: XGboost in ./anaconda3/lib/python3.7/site-packages (1.0.2)\n",
      "Requirement already satisfied: scipy in ./anaconda3/lib/python3.7/site-packages (from XGboost) (1.3.0)\n",
      "Requirement already satisfied: numpy in ./anaconda3/lib/python3.7/site-packages (from XGboost) (1.16.4)\n",
      "Note: you may need to restart the kernel to use updated packages.\n"
     ]
    }
   ],
   "source": [
    "pip install XGboost"
   ]
  },
  {
   "cell_type": "code",
   "execution_count": 117,
   "metadata": {},
   "outputs": [],
   "source": [
    "from xgboost import XGBRegressor\n",
    "regressor  = XGBRegressor()\n"
   ]
  },
  {
   "cell_type": "code",
   "execution_count": 118,
   "metadata": {},
   "outputs": [
    {
     "data": {
      "text/plain": [
       "XGBRegressor(base_score=0.5, booster=None, colsample_bylevel=1,\n",
       "             colsample_bynode=1, colsample_bytree=1, gamma=0, gpu_id=-1,\n",
       "             importance_type='gain', interaction_constraints=None,\n",
       "             learning_rate=0.300000012, max_delta_step=0, max_depth=6,\n",
       "             min_child_weight=1, missing=nan, monotone_constraints=None,\n",
       "             n_estimators=100, n_jobs=0, num_parallel_tree=1,\n",
       "             objective='reg:squarederror', random_state=0, reg_alpha=0,\n",
       "             reg_lambda=1, scale_pos_weight=1, subsample=1, tree_method=None,\n",
       "             validate_parameters=False, verbosity=None)"
      ]
     },
     "execution_count": 118,
     "metadata": {},
     "output_type": "execute_result"
    }
   ],
   "source": [
    "regressor.fit(X_train, Y_train)"
   ]
  },
  {
   "cell_type": "code",
   "execution_count": 119,
   "metadata": {},
   "outputs": [],
   "source": [
    "Y_pred_train = regressor.predict(X_train)"
   ]
  },
  {
   "cell_type": "code",
   "execution_count": 120,
   "metadata": {},
   "outputs": [
    {
     "data": {
      "text/plain": [
       "array([-0.11386645, -0.04970872, -0.02783561, ..., -0.01885736,\n",
       "        0.27036977,  0.0410895 ], dtype=float32)"
      ]
     },
     "execution_count": 120,
     "metadata": {},
     "output_type": "execute_result"
    }
   ],
   "source": [
    "Y_pred_train"
   ]
  },
  {
   "cell_type": "code",
   "execution_count": 121,
   "metadata": {},
   "outputs": [
    {
     "data": {
      "text/plain": [
       "0.2276291310507027"
      ]
     },
     "execution_count": 121,
     "metadata": {},
     "output_type": "execute_result"
    }
   ],
   "source": [
    "regressor.score(X_train,Y_train)"
   ]
  },
  {
   "cell_type": "code",
   "execution_count": 122,
   "metadata": {},
   "outputs": [],
   "source": [
    "y_test = regressor.predict(X_test)\n"
   ]
  },
  {
   "cell_type": "code",
   "execution_count": 123,
   "metadata": {},
   "outputs": [],
   "source": [
    "y_test= sc_X.inverse_transform(y_test)\n"
   ]
  },
  {
   "cell_type": "code",
   "execution_count": 124,
   "metadata": {},
   "outputs": [
    {
     "data": {
      "text/plain": [
       "array([163.75465, 158.6836 , 143.47406, ..., 181.02597, 179.49327,\n",
       "       131.09642], dtype=float32)"
      ]
     },
     "execution_count": 124,
     "metadata": {},
     "output_type": "execute_result"
    }
   ],
   "source": [
    "y_test"
   ]
  },
  {
   "cell_type": "code",
   "execution_count": 125,
   "metadata": {},
   "outputs": [],
   "source": [
    "final['air_pollution_index']=y_test"
   ]
  },
  {
   "cell_type": "code",
   "execution_count": 126,
   "metadata": {},
   "outputs": [],
   "source": [
    "final.to_csv('final1.csv',index=False)"
   ]
  },
  {
   "cell_type": "code",
   "execution_count": 88,
   "metadata": {},
   "outputs": [
    {
     "name": "stdout",
     "output_type": "stream",
     "text": [
      "3\n"
     ]
    }
   ],
   "source": [
    "print(round(2.6))"
   ]
  },
  {
   "cell_type": "code",
   "execution_count": null,
   "metadata": {},
   "outputs": [],
   "source": []
  }
 ],
 "metadata": {
  "kernelspec": {
   "display_name": "Python 3",
   "language": "python",
   "name": "python3"
  },
  "language_info": {
   "codemirror_mode": {
    "name": "ipython",
    "version": 3
   },
   "file_extension": ".py",
   "mimetype": "text/x-python",
   "name": "python",
   "nbconvert_exporter": "python",
   "pygments_lexer": "ipython3",
   "version": "3.7.3"
  }
 },
 "nbformat": 4,
 "nbformat_minor": 2
}
